{
 "cells": [
  {
   "cell_type": "code",
   "execution_count": 0,
   "metadata": {
    "application/vnd.databricks.v1+cell": {
     "cellMetadata": {
      "byteLimit": 2048000,
      "rowLimit": 10000
     },
     "inputWidgets": {},
     "nuid": "7d1288e8-fcdc-4c05-a4a2-53e05a19b013",
     "showTitle": false,
     "title": ""
    }
   },
   "outputs": [
    {
     "output_type": "display_data",
     "data": {
      "text/html": [
       "<style scoped>\n",
       "  .table-result-container {\n",
       "    max-height: 300px;\n",
       "    overflow: auto;\n",
       "  }\n",
       "  table, th, td {\n",
       "    border: 1px solid black;\n",
       "    border-collapse: collapse;\n",
       "  }\n",
       "  th, td {\n",
       "    padding: 5px;\n",
       "  }\n",
       "  th {\n",
       "    text-align: left;\n",
       "  }\n",
       "</style><div class='table-result-container'><table class='table-result'><thead style='background-color: white'><tr><th>product_id</th><th>customer_id</th><th>order_date</th><th>location</th><th>source_order</th></tr></thead><tbody><tr><td>1</td><td>A</td><td>2023-01-01</td><td>India</td><td>Swiggy</td></tr><tr><td>2</td><td>A</td><td>2022-01-01</td><td>India</td><td>Swiggy</td></tr><tr><td>2</td><td>A</td><td>2023-01-07</td><td>India</td><td>Swiggy</td></tr><tr><td>3</td><td>A</td><td>2023-01-10</td><td>India</td><td>Restaurant</td></tr><tr><td>3</td><td>A</td><td>2022-01-11</td><td>India</td><td>Swiggy</td></tr><tr><td>3</td><td>A</td><td>2023-01-11</td><td>India</td><td>Restaurant</td></tr><tr><td>2</td><td>B</td><td>2022-02-01</td><td>India</td><td>Swiggy</td></tr><tr><td>2</td><td>B</td><td>2023-01-02</td><td>India</td><td>Swiggy</td></tr><tr><td>1</td><td>B</td><td>2023-01-04</td><td>India</td><td>Restaurant</td></tr><tr><td>1</td><td>B</td><td>2023-02-11</td><td>India</td><td>Swiggy</td></tr><tr><td>3</td><td>B</td><td>2023-01-16</td><td>India</td><td>zomato</td></tr><tr><td>3</td><td>B</td><td>2022-02-01</td><td>India</td><td>zomato</td></tr><tr><td>3</td><td>C</td><td>2023-01-01</td><td>India</td><td>zomato</td></tr><tr><td>1</td><td>C</td><td>2023-01-01</td><td>UK</td><td>Swiggy</td></tr><tr><td>6</td><td>C</td><td>2022-01-07</td><td>UK</td><td>zomato</td></tr><tr><td>3</td><td>D</td><td>2023-02-16</td><td>UK</td><td>Restaurant</td></tr><tr><td>5</td><td>D</td><td>2022-02-01</td><td>UK</td><td>zomato</td></tr><tr><td>3</td><td>E</td><td>2023-02-01</td><td>UK</td><td>Restaurant</td></tr><tr><td>4</td><td>E</td><td>2023-02-01</td><td>UK</td><td>Swiggy</td></tr><tr><td>4</td><td>E</td><td>2023-02-07</td><td>UK</td><td>Restaurant</td></tr><tr><td>2</td><td>A</td><td>2022-01-01</td><td>UK</td><td>Swiggy</td></tr><tr><td>2</td><td>A</td><td>2023-01-07</td><td>UK</td><td>Swiggy</td></tr><tr><td>3</td><td>A</td><td>2023-01-10</td><td>UK</td><td>Restaurant</td></tr><tr><td>3</td><td>A</td><td>2022-01-11</td><td>UK</td><td>Swiggy</td></tr><tr><td>3</td><td>A</td><td>2023-01-11</td><td>UK</td><td>zomato</td></tr><tr><td>2</td><td>B</td><td>2022-03-01</td><td>UK</td><td>zomato</td></tr><tr><td>2</td><td>B</td><td>2023-01-02</td><td>UK</td><td>zomato</td></tr><tr><td>1</td><td>B</td><td>2023-01-04</td><td>UK</td><td>Swiggy</td></tr><tr><td>1</td><td>B</td><td>2023-03-11</td><td>UK</td><td>Restaurant</td></tr><tr><td>3</td><td>B</td><td>2023-01-16</td><td>UK</td><td>Swiggy</td></tr><tr><td>3</td><td>B</td><td>2023-03-01</td><td>UK</td><td>Swiggy</td></tr><tr><td>3</td><td>C</td><td>2023-01-01</td><td>UK</td><td>Restaurant</td></tr><tr><td>1</td><td>C</td><td>2023-01-01</td><td>USA</td><td>Swiggy</td></tr><tr><td>6</td><td>C</td><td>2023-01-07</td><td>USA</td><td>zomato</td></tr><tr><td>3</td><td>D</td><td>2022-03-16</td><td>USA</td><td>zomato</td></tr><tr><td>5</td><td>D</td><td>2023-03-01</td><td>USA</td><td>zomato</td></tr><tr><td>3</td><td>E</td><td>2023-03-01</td><td>USA</td><td>Swiggy</td></tr><tr><td>4</td><td>E</td><td>2022-03-01</td><td>USA</td><td>zomato</td></tr><tr><td>4</td><td>E</td><td>2023-03-07</td><td>USA</td><td>zomato</td></tr><tr><td>1</td><td>A</td><td>2023-05-05</td><td>India</td><td>Swiggy</td></tr><tr><td>2</td><td>A</td><td>2022-05-05</td><td>India</td><td>Swiggy</td></tr><tr><td>2</td><td>A</td><td>2023-05-07</td><td>India</td><td>Swiggy</td></tr><tr><td>3</td><td>A</td><td>2023-05-10</td><td>India</td><td>Restaurant</td></tr><tr><td>3</td><td>A</td><td>2022-05-11</td><td>India</td><td>Swiggy</td></tr><tr><td>3</td><td>A</td><td>2023-05-11</td><td>India</td><td>Restaurant</td></tr><tr><td>2</td><td>B</td><td>2022-02-05</td><td>India</td><td>Swiggy</td></tr><tr><td>2</td><td>B</td><td>2023-05-02</td><td>India</td><td>Swiggy</td></tr><tr><td>1</td><td>B</td><td>2023-05-04</td><td>India</td><td>Restaurant</td></tr><tr><td>1</td><td>B</td><td>2023-02-11</td><td>India</td><td>Swiggy</td></tr><tr><td>3</td><td>B</td><td>2023-05-16</td><td>India</td><td>zomato</td></tr><tr><td>3</td><td>B</td><td>2022-02-05</td><td>India</td><td>zomato</td></tr><tr><td>3</td><td>C</td><td>2023-05-05</td><td>India</td><td>zomato</td></tr><tr><td>1</td><td>C</td><td>2023-05-05</td><td>UK</td><td>Swiggy</td></tr><tr><td>6</td><td>C</td><td>2022-05-07</td><td>UK</td><td>zomato</td></tr><tr><td>3</td><td>D</td><td>2023-02-16</td><td>UK</td><td>Restaurant</td></tr><tr><td>5</td><td>D</td><td>2022-02-05</td><td>UK</td><td>zomato</td></tr><tr><td>3</td><td>E</td><td>2023-02-05</td><td>UK</td><td>Restaurant</td></tr><tr><td>4</td><td>E</td><td>2023-02-05</td><td>UK</td><td>Swiggy</td></tr><tr><td>4</td><td>E</td><td>2023-02-07</td><td>UK</td><td>Restaurant</td></tr><tr><td>2</td><td>A</td><td>2022-05-05</td><td>UK</td><td>Swiggy</td></tr><tr><td>2</td><td>A</td><td>2023-05-07</td><td>UK</td><td>Swiggy</td></tr><tr><td>3</td><td>A</td><td>2023-05-10</td><td>UK</td><td>Restaurant</td></tr><tr><td>3</td><td>A</td><td>2022-05-11</td><td>UK</td><td>Swiggy</td></tr><tr><td>3</td><td>A</td><td>2023-05-11</td><td>UK</td><td>zomato</td></tr><tr><td>2</td><td>B</td><td>2022-07-05</td><td>UK</td><td>zomato</td></tr><tr><td>2</td><td>B</td><td>2023-05-02</td><td>UK</td><td>zomato</td></tr><tr><td>1</td><td>B</td><td>2023-05-04</td><td>UK</td><td>Swiggy</td></tr><tr><td>1</td><td>B</td><td>2023-07-11</td><td>UK</td><td>Restaurant</td></tr><tr><td>3</td><td>B</td><td>2023-05-16</td><td>UK</td><td>Swiggy</td></tr><tr><td>3</td><td>B</td><td>2023-07-05</td><td>UK</td><td>Swiggy</td></tr><tr><td>3</td><td>C</td><td>2023-05-05</td><td>UK</td><td>Restaurant</td></tr><tr><td>1</td><td>C</td><td>2023-05-05</td><td>USA</td><td>Swiggy</td></tr><tr><td>6</td><td>C</td><td>2023-05-07</td><td>USA</td><td>zomato</td></tr><tr><td>3</td><td>D</td><td>2022-07-16</td><td>USA</td><td>zomato</td></tr><tr><td>5</td><td>D</td><td>2023-07-05</td><td>USA</td><td>zomato</td></tr><tr><td>3</td><td>E</td><td>2023-07-05</td><td>USA</td><td>Swiggy</td></tr><tr><td>4</td><td>E</td><td>2022-07-05</td><td>USA</td><td>zomato</td></tr><tr><td>4</td><td>E</td><td>2023-07-07</td><td>USA</td><td>zomato</td></tr><tr><td>1</td><td>A</td><td>2023-06-06</td><td>India</td><td>Swiggy</td></tr><tr><td>2</td><td>A</td><td>2022-06-06</td><td>India</td><td>Swiggy</td></tr><tr><td>2</td><td>A</td><td>2023-06-11</td><td>India</td><td>Swiggy</td></tr><tr><td>3</td><td>A</td><td>2023-06-10</td><td>India</td><td>Restaurant</td></tr><tr><td>3</td><td>A</td><td>2022-06-11</td><td>India</td><td>Swiggy</td></tr><tr><td>3</td><td>A</td><td>2023-06-11</td><td>India</td><td>Restaurant</td></tr><tr><td>2</td><td>B</td><td>2022-02-06</td><td>India</td><td>Swiggy</td></tr><tr><td>2</td><td>B</td><td>2023-06-02</td><td>India</td><td>Swiggy</td></tr><tr><td>1</td><td>B</td><td>2023-06-04</td><td>India</td><td>Restaurant</td></tr><tr><td>1</td><td>B</td><td>2023-02-11</td><td>India</td><td>Swiggy</td></tr><tr><td>3</td><td>B</td><td>2023-06-16</td><td>India</td><td>zomato</td></tr><tr><td>3</td><td>B</td><td>2022-02-06</td><td>India</td><td>zomato</td></tr><tr><td>3</td><td>C</td><td>2023-06-06</td><td>India</td><td>zomato</td></tr><tr><td>1</td><td>C</td><td>2023-06-06</td><td>UK</td><td>Swiggy</td></tr><tr><td>6</td><td>C</td><td>2022-06-11</td><td>UK</td><td>zomato</td></tr><tr><td>3</td><td>D</td><td>2023-02-16</td><td>UK</td><td>Restaurant</td></tr><tr><td>5</td><td>D</td><td>2022-02-06</td><td>UK</td><td>zomato</td></tr><tr><td>3</td><td>E</td><td>2023-02-06</td><td>UK</td><td>Restaurant</td></tr><tr><td>4</td><td>E</td><td>2023-02-06</td><td>UK</td><td>Swiggy</td></tr><tr><td>4</td><td>E</td><td>2023-02-11</td><td>UK</td><td>Restaurant</td></tr><tr><td>2</td><td>A</td><td>2022-06-06</td><td>UK</td><td>Swiggy</td></tr><tr><td>2</td><td>A</td><td>2023-06-11</td><td>UK</td><td>Swiggy</td></tr><tr><td>3</td><td>A</td><td>2023-06-10</td><td>UK</td><td>Restaurant</td></tr><tr><td>3</td><td>A</td><td>2022-06-11</td><td>UK</td><td>Swiggy</td></tr><tr><td>3</td><td>A</td><td>2023-06-11</td><td>UK</td><td>zomato</td></tr><tr><td>2</td><td>B</td><td>2022-11-06</td><td>UK</td><td>zomato</td></tr><tr><td>2</td><td>B</td><td>2023-06-02</td><td>UK</td><td>zomato</td></tr><tr><td>1</td><td>B</td><td>2023-06-04</td><td>UK</td><td>Swiggy</td></tr><tr><td>1</td><td>B</td><td>2023-11-11</td><td>UK</td><td>Restaurant</td></tr><tr><td>3</td><td>B</td><td>2023-06-16</td><td>UK</td><td>Swiggy</td></tr><tr><td>3</td><td>B</td><td>2023-11-06</td><td>UK</td><td>Swiggy</td></tr><tr><td>3</td><td>C</td><td>2023-06-06</td><td>UK</td><td>Restaurant</td></tr><tr><td>1</td><td>C</td><td>2023-06-06</td><td>USA</td><td>Swiggy</td></tr><tr><td>6</td><td>C</td><td>2023-06-11</td><td>USA</td><td>zomato</td></tr><tr><td>3</td><td>D</td><td>2022-11-16</td><td>USA</td><td>zomato</td></tr><tr><td>5</td><td>D</td><td>2023-11-06</td><td>USA</td><td>zomato</td></tr><tr><td>3</td><td>E</td><td>2023-11-06</td><td>USA</td><td>Swiggy</td></tr><tr><td>4</td><td>E</td><td>2022-11-06</td><td>USA</td><td>zomato</td></tr><tr><td>4</td><td>E</td><td>2023-11-11</td><td>USA</td><td>zomato</td></tr></tbody></table></div>"
      ]
     },
     "metadata": {
      "application/vnd.databricks.v1+output": {
       "addedWidgets": {},
       "aggData": [],
       "aggError": "",
       "aggOverflow": false,
       "aggSchema": [],
       "aggSeriesLimitReached": false,
       "aggType": "",
       "arguments": {},
       "columnCustomDisplayInfos": {},
       "data": [
        [
         1,
         "A",
         "2023-01-01",
         "India",
         "Swiggy"
        ],
        [
         2,
         "A",
         "2022-01-01",
         "India",
         "Swiggy"
        ],
        [
         2,
         "A",
         "2023-01-07",
         "India",
         "Swiggy"
        ],
        [
         3,
         "A",
         "2023-01-10",
         "India",
         "Restaurant"
        ],
        [
         3,
         "A",
         "2022-01-11",
         "India",
         "Swiggy"
        ],
        [
         3,
         "A",
         "2023-01-11",
         "India",
         "Restaurant"
        ],
        [
         2,
         "B",
         "2022-02-01",
         "India",
         "Swiggy"
        ],
        [
         2,
         "B",
         "2023-01-02",
         "India",
         "Swiggy"
        ],
        [
         1,
         "B",
         "2023-01-04",
         "India",
         "Restaurant"
        ],
        [
         1,
         "B",
         "2023-02-11",
         "India",
         "Swiggy"
        ],
        [
         3,
         "B",
         "2023-01-16",
         "India",
         "zomato"
        ],
        [
         3,
         "B",
         "2022-02-01",
         "India",
         "zomato"
        ],
        [
         3,
         "C",
         "2023-01-01",
         "India",
         "zomato"
        ],
        [
         1,
         "C",
         "2023-01-01",
         "UK",
         "Swiggy"
        ],
        [
         6,
         "C",
         "2022-01-07",
         "UK",
         "zomato"
        ],
        [
         3,
         "D",
         "2023-02-16",
         "UK",
         "Restaurant"
        ],
        [
         5,
         "D",
         "2022-02-01",
         "UK",
         "zomato"
        ],
        [
         3,
         "E",
         "2023-02-01",
         "UK",
         "Restaurant"
        ],
        [
         4,
         "E",
         "2023-02-01",
         "UK",
         "Swiggy"
        ],
        [
         4,
         "E",
         "2023-02-07",
         "UK",
         "Restaurant"
        ],
        [
         2,
         "A",
         "2022-01-01",
         "UK",
         "Swiggy"
        ],
        [
         2,
         "A",
         "2023-01-07",
         "UK",
         "Swiggy"
        ],
        [
         3,
         "A",
         "2023-01-10",
         "UK",
         "Restaurant"
        ],
        [
         3,
         "A",
         "2022-01-11",
         "UK",
         "Swiggy"
        ],
        [
         3,
         "A",
         "2023-01-11",
         "UK",
         "zomato"
        ],
        [
         2,
         "B",
         "2022-03-01",
         "UK",
         "zomato"
        ],
        [
         2,
         "B",
         "2023-01-02",
         "UK",
         "zomato"
        ],
        [
         1,
         "B",
         "2023-01-04",
         "UK",
         "Swiggy"
        ],
        [
         1,
         "B",
         "2023-03-11",
         "UK",
         "Restaurant"
        ],
        [
         3,
         "B",
         "2023-01-16",
         "UK",
         "Swiggy"
        ],
        [
         3,
         "B",
         "2023-03-01",
         "UK",
         "Swiggy"
        ],
        [
         3,
         "C",
         "2023-01-01",
         "UK",
         "Restaurant"
        ],
        [
         1,
         "C",
         "2023-01-01",
         "USA",
         "Swiggy"
        ],
        [
         6,
         "C",
         "2023-01-07",
         "USA",
         "zomato"
        ],
        [
         3,
         "D",
         "2022-03-16",
         "USA",
         "zomato"
        ],
        [
         5,
         "D",
         "2023-03-01",
         "USA",
         "zomato"
        ],
        [
         3,
         "E",
         "2023-03-01",
         "USA",
         "Swiggy"
        ],
        [
         4,
         "E",
         "2022-03-01",
         "USA",
         "zomato"
        ],
        [
         4,
         "E",
         "2023-03-07",
         "USA",
         "zomato"
        ],
        [
         1,
         "A",
         "2023-05-05",
         "India",
         "Swiggy"
        ],
        [
         2,
         "A",
         "2022-05-05",
         "India",
         "Swiggy"
        ],
        [
         2,
         "A",
         "2023-05-07",
         "India",
         "Swiggy"
        ],
        [
         3,
         "A",
         "2023-05-10",
         "India",
         "Restaurant"
        ],
        [
         3,
         "A",
         "2022-05-11",
         "India",
         "Swiggy"
        ],
        [
         3,
         "A",
         "2023-05-11",
         "India",
         "Restaurant"
        ],
        [
         2,
         "B",
         "2022-02-05",
         "India",
         "Swiggy"
        ],
        [
         2,
         "B",
         "2023-05-02",
         "India",
         "Swiggy"
        ],
        [
         1,
         "B",
         "2023-05-04",
         "India",
         "Restaurant"
        ],
        [
         1,
         "B",
         "2023-02-11",
         "India",
         "Swiggy"
        ],
        [
         3,
         "B",
         "2023-05-16",
         "India",
         "zomato"
        ],
        [
         3,
         "B",
         "2022-02-05",
         "India",
         "zomato"
        ],
        [
         3,
         "C",
         "2023-05-05",
         "India",
         "zomato"
        ],
        [
         1,
         "C",
         "2023-05-05",
         "UK",
         "Swiggy"
        ],
        [
         6,
         "C",
         "2022-05-07",
         "UK",
         "zomato"
        ],
        [
         3,
         "D",
         "2023-02-16",
         "UK",
         "Restaurant"
        ],
        [
         5,
         "D",
         "2022-02-05",
         "UK",
         "zomato"
        ],
        [
         3,
         "E",
         "2023-02-05",
         "UK",
         "Restaurant"
        ],
        [
         4,
         "E",
         "2023-02-05",
         "UK",
         "Swiggy"
        ],
        [
         4,
         "E",
         "2023-02-07",
         "UK",
         "Restaurant"
        ],
        [
         2,
         "A",
         "2022-05-05",
         "UK",
         "Swiggy"
        ],
        [
         2,
         "A",
         "2023-05-07",
         "UK",
         "Swiggy"
        ],
        [
         3,
         "A",
         "2023-05-10",
         "UK",
         "Restaurant"
        ],
        [
         3,
         "A",
         "2022-05-11",
         "UK",
         "Swiggy"
        ],
        [
         3,
         "A",
         "2023-05-11",
         "UK",
         "zomato"
        ],
        [
         2,
         "B",
         "2022-07-05",
         "UK",
         "zomato"
        ],
        [
         2,
         "B",
         "2023-05-02",
         "UK",
         "zomato"
        ],
        [
         1,
         "B",
         "2023-05-04",
         "UK",
         "Swiggy"
        ],
        [
         1,
         "B",
         "2023-07-11",
         "UK",
         "Restaurant"
        ],
        [
         3,
         "B",
         "2023-05-16",
         "UK",
         "Swiggy"
        ],
        [
         3,
         "B",
         "2023-07-05",
         "UK",
         "Swiggy"
        ],
        [
         3,
         "C",
         "2023-05-05",
         "UK",
         "Restaurant"
        ],
        [
         1,
         "C",
         "2023-05-05",
         "USA",
         "Swiggy"
        ],
        [
         6,
         "C",
         "2023-05-07",
         "USA",
         "zomato"
        ],
        [
         3,
         "D",
         "2022-07-16",
         "USA",
         "zomato"
        ],
        [
         5,
         "D",
         "2023-07-05",
         "USA",
         "zomato"
        ],
        [
         3,
         "E",
         "2023-07-05",
         "USA",
         "Swiggy"
        ],
        [
         4,
         "E",
         "2022-07-05",
         "USA",
         "zomato"
        ],
        [
         4,
         "E",
         "2023-07-07",
         "USA",
         "zomato"
        ],
        [
         1,
         "A",
         "2023-06-06",
         "India",
         "Swiggy"
        ],
        [
         2,
         "A",
         "2022-06-06",
         "India",
         "Swiggy"
        ],
        [
         2,
         "A",
         "2023-06-11",
         "India",
         "Swiggy"
        ],
        [
         3,
         "A",
         "2023-06-10",
         "India",
         "Restaurant"
        ],
        [
         3,
         "A",
         "2022-06-11",
         "India",
         "Swiggy"
        ],
        [
         3,
         "A",
         "2023-06-11",
         "India",
         "Restaurant"
        ],
        [
         2,
         "B",
         "2022-02-06",
         "India",
         "Swiggy"
        ],
        [
         2,
         "B",
         "2023-06-02",
         "India",
         "Swiggy"
        ],
        [
         1,
         "B",
         "2023-06-04",
         "India",
         "Restaurant"
        ],
        [
         1,
         "B",
         "2023-02-11",
         "India",
         "Swiggy"
        ],
        [
         3,
         "B",
         "2023-06-16",
         "India",
         "zomato"
        ],
        [
         3,
         "B",
         "2022-02-06",
         "India",
         "zomato"
        ],
        [
         3,
         "C",
         "2023-06-06",
         "India",
         "zomato"
        ],
        [
         1,
         "C",
         "2023-06-06",
         "UK",
         "Swiggy"
        ],
        [
         6,
         "C",
         "2022-06-11",
         "UK",
         "zomato"
        ],
        [
         3,
         "D",
         "2023-02-16",
         "UK",
         "Restaurant"
        ],
        [
         5,
         "D",
         "2022-02-06",
         "UK",
         "zomato"
        ],
        [
         3,
         "E",
         "2023-02-06",
         "UK",
         "Restaurant"
        ],
        [
         4,
         "E",
         "2023-02-06",
         "UK",
         "Swiggy"
        ],
        [
         4,
         "E",
         "2023-02-11",
         "UK",
         "Restaurant"
        ],
        [
         2,
         "A",
         "2022-06-06",
         "UK",
         "Swiggy"
        ],
        [
         2,
         "A",
         "2023-06-11",
         "UK",
         "Swiggy"
        ],
        [
         3,
         "A",
         "2023-06-10",
         "UK",
         "Restaurant"
        ],
        [
         3,
         "A",
         "2022-06-11",
         "UK",
         "Swiggy"
        ],
        [
         3,
         "A",
         "2023-06-11",
         "UK",
         "zomato"
        ],
        [
         2,
         "B",
         "2022-11-06",
         "UK",
         "zomato"
        ],
        [
         2,
         "B",
         "2023-06-02",
         "UK",
         "zomato"
        ],
        [
         1,
         "B",
         "2023-06-04",
         "UK",
         "Swiggy"
        ],
        [
         1,
         "B",
         "2023-11-11",
         "UK",
         "Restaurant"
        ],
        [
         3,
         "B",
         "2023-06-16",
         "UK",
         "Swiggy"
        ],
        [
         3,
         "B",
         "2023-11-06",
         "UK",
         "Swiggy"
        ],
        [
         3,
         "C",
         "2023-06-06",
         "UK",
         "Restaurant"
        ],
        [
         1,
         "C",
         "2023-06-06",
         "USA",
         "Swiggy"
        ],
        [
         6,
         "C",
         "2023-06-11",
         "USA",
         "zomato"
        ],
        [
         3,
         "D",
         "2022-11-16",
         "USA",
         "zomato"
        ],
        [
         5,
         "D",
         "2023-11-06",
         "USA",
         "zomato"
        ],
        [
         3,
         "E",
         "2023-11-06",
         "USA",
         "Swiggy"
        ],
        [
         4,
         "E",
         "2022-11-06",
         "USA",
         "zomato"
        ],
        [
         4,
         "E",
         "2023-11-11",
         "USA",
         "zomato"
        ]
       ],
       "datasetInfos": [],
       "dbfsResultPath": null,
       "isJsonSchema": true,
       "metadata": {},
       "overflow": false,
       "plotOptions": {
        "customPlotOptions": {},
        "displayType": "table",
        "pivotAggregation": null,
        "pivotColumns": null,
        "xColumns": null,
        "yColumns": null
       },
       "removedWidgets": [],
       "schema": [
        {
         "metadata": "{}",
         "name": "product_id",
         "type": "\"integer\""
        },
        {
         "metadata": "{}",
         "name": "customer_id",
         "type": "\"string\""
        },
        {
         "metadata": "{}",
         "name": "order_date",
         "type": "\"date\""
        },
        {
         "metadata": "{}",
         "name": "location",
         "type": "\"string\""
        },
        {
         "metadata": "{}",
         "name": "source_order",
         "type": "\"string\""
        }
       ],
       "type": "table"
      }
     },
     "output_type": "display_data"
    }
   ],
   "source": [
    "from pyspark.sql.types import StructType, StructField, IntegerType, StringType, DateType\n",
    "\n",
    "schema=StructType([\n",
    "\n",
    "StructField(\"product_id\", IntegerType(), True),     # True to avoid null value\n",
    "StructField(\"customer_id\", StringType(), True),\n",
    "StructField(\"order_date\", DateType(), True),\n",
    "StructField(\"location\", StringType(), True),\n",
    "StructField(\"source_order\", StringType(), True)\n",
    "])\n",
    "\n",
    "sales_df = spark.read.format(\"csv\").option(\"inferschema\", \"true\").schema(schema).load(\"/FileStore/tables/sales_csv.txt\")\n",
    "                             \n",
    "display(sales_df)\n",
    "\n"
   ]
  },
  {
   "cell_type": "code",
   "execution_count": 0,
   "metadata": {
    "application/vnd.databricks.v1+cell": {
     "cellMetadata": {
      "byteLimit": 2048000,
      "rowLimit": 10000
     },
     "inputWidgets": {},
     "nuid": "ecbbfe2c-eaa9-455e-98bd-7b2579d73164",
     "showTitle": true,
     "title": "Derive year, month and quarter"
    }
   },
   "outputs": [
    {
     "output_type": "display_data",
     "data": {
      "text/html": [
       "<style scoped>\n",
       "  .table-result-container {\n",
       "    max-height: 300px;\n",
       "    overflow: auto;\n",
       "  }\n",
       "  table, th, td {\n",
       "    border: 1px solid black;\n",
       "    border-collapse: collapse;\n",
       "  }\n",
       "  th, td {\n",
       "    padding: 5px;\n",
       "  }\n",
       "  th {\n",
       "    text-align: left;\n",
       "  }\n",
       "</style><div class='table-result-container'><table class='table-result'><thead style='background-color: white'><tr><th>product_id</th><th>customer_id</th><th>order_date</th><th>location</th><th>source_order</th><th>Order_year</th><th>Order_month</th><th>Order_quarter</th></tr></thead><tbody><tr><td>1</td><td>A</td><td>2023-01-01</td><td>India</td><td>Swiggy</td><td>2023</td><td>1</td><td>1</td></tr><tr><td>2</td><td>A</td><td>2022-01-01</td><td>India</td><td>Swiggy</td><td>2022</td><td>1</td><td>1</td></tr><tr><td>2</td><td>A</td><td>2023-01-07</td><td>India</td><td>Swiggy</td><td>2023</td><td>1</td><td>1</td></tr><tr><td>3</td><td>A</td><td>2023-01-10</td><td>India</td><td>Restaurant</td><td>2023</td><td>1</td><td>1</td></tr><tr><td>3</td><td>A</td><td>2022-01-11</td><td>India</td><td>Swiggy</td><td>2022</td><td>1</td><td>1</td></tr><tr><td>3</td><td>A</td><td>2023-01-11</td><td>India</td><td>Restaurant</td><td>2023</td><td>1</td><td>1</td></tr><tr><td>2</td><td>B</td><td>2022-02-01</td><td>India</td><td>Swiggy</td><td>2022</td><td>2</td><td>1</td></tr><tr><td>2</td><td>B</td><td>2023-01-02</td><td>India</td><td>Swiggy</td><td>2023</td><td>1</td><td>1</td></tr><tr><td>1</td><td>B</td><td>2023-01-04</td><td>India</td><td>Restaurant</td><td>2023</td><td>1</td><td>1</td></tr><tr><td>1</td><td>B</td><td>2023-02-11</td><td>India</td><td>Swiggy</td><td>2023</td><td>2</td><td>1</td></tr><tr><td>3</td><td>B</td><td>2023-01-16</td><td>India</td><td>zomato</td><td>2023</td><td>1</td><td>1</td></tr><tr><td>3</td><td>B</td><td>2022-02-01</td><td>India</td><td>zomato</td><td>2022</td><td>2</td><td>1</td></tr><tr><td>3</td><td>C</td><td>2023-01-01</td><td>India</td><td>zomato</td><td>2023</td><td>1</td><td>1</td></tr><tr><td>1</td><td>C</td><td>2023-01-01</td><td>UK</td><td>Swiggy</td><td>2023</td><td>1</td><td>1</td></tr><tr><td>6</td><td>C</td><td>2022-01-07</td><td>UK</td><td>zomato</td><td>2022</td><td>1</td><td>1</td></tr><tr><td>3</td><td>D</td><td>2023-02-16</td><td>UK</td><td>Restaurant</td><td>2023</td><td>2</td><td>1</td></tr><tr><td>5</td><td>D</td><td>2022-02-01</td><td>UK</td><td>zomato</td><td>2022</td><td>2</td><td>1</td></tr><tr><td>3</td><td>E</td><td>2023-02-01</td><td>UK</td><td>Restaurant</td><td>2023</td><td>2</td><td>1</td></tr><tr><td>4</td><td>E</td><td>2023-02-01</td><td>UK</td><td>Swiggy</td><td>2023</td><td>2</td><td>1</td></tr><tr><td>4</td><td>E</td><td>2023-02-07</td><td>UK</td><td>Restaurant</td><td>2023</td><td>2</td><td>1</td></tr><tr><td>2</td><td>A</td><td>2022-01-01</td><td>UK</td><td>Swiggy</td><td>2022</td><td>1</td><td>1</td></tr><tr><td>2</td><td>A</td><td>2023-01-07</td><td>UK</td><td>Swiggy</td><td>2023</td><td>1</td><td>1</td></tr><tr><td>3</td><td>A</td><td>2023-01-10</td><td>UK</td><td>Restaurant</td><td>2023</td><td>1</td><td>1</td></tr><tr><td>3</td><td>A</td><td>2022-01-11</td><td>UK</td><td>Swiggy</td><td>2022</td><td>1</td><td>1</td></tr><tr><td>3</td><td>A</td><td>2023-01-11</td><td>UK</td><td>zomato</td><td>2023</td><td>1</td><td>1</td></tr><tr><td>2</td><td>B</td><td>2022-03-01</td><td>UK</td><td>zomato</td><td>2022</td><td>3</td><td>1</td></tr><tr><td>2</td><td>B</td><td>2023-01-02</td><td>UK</td><td>zomato</td><td>2023</td><td>1</td><td>1</td></tr><tr><td>1</td><td>B</td><td>2023-01-04</td><td>UK</td><td>Swiggy</td><td>2023</td><td>1</td><td>1</td></tr><tr><td>1</td><td>B</td><td>2023-03-11</td><td>UK</td><td>Restaurant</td><td>2023</td><td>3</td><td>1</td></tr><tr><td>3</td><td>B</td><td>2023-01-16</td><td>UK</td><td>Swiggy</td><td>2023</td><td>1</td><td>1</td></tr><tr><td>3</td><td>B</td><td>2023-03-01</td><td>UK</td><td>Swiggy</td><td>2023</td><td>3</td><td>1</td></tr><tr><td>3</td><td>C</td><td>2023-01-01</td><td>UK</td><td>Restaurant</td><td>2023</td><td>1</td><td>1</td></tr><tr><td>1</td><td>C</td><td>2023-01-01</td><td>USA</td><td>Swiggy</td><td>2023</td><td>1</td><td>1</td></tr><tr><td>6</td><td>C</td><td>2023-01-07</td><td>USA</td><td>zomato</td><td>2023</td><td>1</td><td>1</td></tr><tr><td>3</td><td>D</td><td>2022-03-16</td><td>USA</td><td>zomato</td><td>2022</td><td>3</td><td>1</td></tr><tr><td>5</td><td>D</td><td>2023-03-01</td><td>USA</td><td>zomato</td><td>2023</td><td>3</td><td>1</td></tr><tr><td>3</td><td>E</td><td>2023-03-01</td><td>USA</td><td>Swiggy</td><td>2023</td><td>3</td><td>1</td></tr><tr><td>4</td><td>E</td><td>2022-03-01</td><td>USA</td><td>zomato</td><td>2022</td><td>3</td><td>1</td></tr><tr><td>4</td><td>E</td><td>2023-03-07</td><td>USA</td><td>zomato</td><td>2023</td><td>3</td><td>1</td></tr><tr><td>1</td><td>A</td><td>2023-05-05</td><td>India</td><td>Swiggy</td><td>2023</td><td>5</td><td>2</td></tr><tr><td>2</td><td>A</td><td>2022-05-05</td><td>India</td><td>Swiggy</td><td>2022</td><td>5</td><td>2</td></tr><tr><td>2</td><td>A</td><td>2023-05-07</td><td>India</td><td>Swiggy</td><td>2023</td><td>5</td><td>2</td></tr><tr><td>3</td><td>A</td><td>2023-05-10</td><td>India</td><td>Restaurant</td><td>2023</td><td>5</td><td>2</td></tr><tr><td>3</td><td>A</td><td>2022-05-11</td><td>India</td><td>Swiggy</td><td>2022</td><td>5</td><td>2</td></tr><tr><td>3</td><td>A</td><td>2023-05-11</td><td>India</td><td>Restaurant</td><td>2023</td><td>5</td><td>2</td></tr><tr><td>2</td><td>B</td><td>2022-02-05</td><td>India</td><td>Swiggy</td><td>2022</td><td>2</td><td>1</td></tr><tr><td>2</td><td>B</td><td>2023-05-02</td><td>India</td><td>Swiggy</td><td>2023</td><td>5</td><td>2</td></tr><tr><td>1</td><td>B</td><td>2023-05-04</td><td>India</td><td>Restaurant</td><td>2023</td><td>5</td><td>2</td></tr><tr><td>1</td><td>B</td><td>2023-02-11</td><td>India</td><td>Swiggy</td><td>2023</td><td>2</td><td>1</td></tr><tr><td>3</td><td>B</td><td>2023-05-16</td><td>India</td><td>zomato</td><td>2023</td><td>5</td><td>2</td></tr><tr><td>3</td><td>B</td><td>2022-02-05</td><td>India</td><td>zomato</td><td>2022</td><td>2</td><td>1</td></tr><tr><td>3</td><td>C</td><td>2023-05-05</td><td>India</td><td>zomato</td><td>2023</td><td>5</td><td>2</td></tr><tr><td>1</td><td>C</td><td>2023-05-05</td><td>UK</td><td>Swiggy</td><td>2023</td><td>5</td><td>2</td></tr><tr><td>6</td><td>C</td><td>2022-05-07</td><td>UK</td><td>zomato</td><td>2022</td><td>5</td><td>2</td></tr><tr><td>3</td><td>D</td><td>2023-02-16</td><td>UK</td><td>Restaurant</td><td>2023</td><td>2</td><td>1</td></tr><tr><td>5</td><td>D</td><td>2022-02-05</td><td>UK</td><td>zomato</td><td>2022</td><td>2</td><td>1</td></tr><tr><td>3</td><td>E</td><td>2023-02-05</td><td>UK</td><td>Restaurant</td><td>2023</td><td>2</td><td>1</td></tr><tr><td>4</td><td>E</td><td>2023-02-05</td><td>UK</td><td>Swiggy</td><td>2023</td><td>2</td><td>1</td></tr><tr><td>4</td><td>E</td><td>2023-02-07</td><td>UK</td><td>Restaurant</td><td>2023</td><td>2</td><td>1</td></tr><tr><td>2</td><td>A</td><td>2022-05-05</td><td>UK</td><td>Swiggy</td><td>2022</td><td>5</td><td>2</td></tr><tr><td>2</td><td>A</td><td>2023-05-07</td><td>UK</td><td>Swiggy</td><td>2023</td><td>5</td><td>2</td></tr><tr><td>3</td><td>A</td><td>2023-05-10</td><td>UK</td><td>Restaurant</td><td>2023</td><td>5</td><td>2</td></tr><tr><td>3</td><td>A</td><td>2022-05-11</td><td>UK</td><td>Swiggy</td><td>2022</td><td>5</td><td>2</td></tr><tr><td>3</td><td>A</td><td>2023-05-11</td><td>UK</td><td>zomato</td><td>2023</td><td>5</td><td>2</td></tr><tr><td>2</td><td>B</td><td>2022-07-05</td><td>UK</td><td>zomato</td><td>2022</td><td>7</td><td>3</td></tr><tr><td>2</td><td>B</td><td>2023-05-02</td><td>UK</td><td>zomato</td><td>2023</td><td>5</td><td>2</td></tr><tr><td>1</td><td>B</td><td>2023-05-04</td><td>UK</td><td>Swiggy</td><td>2023</td><td>5</td><td>2</td></tr><tr><td>1</td><td>B</td><td>2023-07-11</td><td>UK</td><td>Restaurant</td><td>2023</td><td>7</td><td>3</td></tr><tr><td>3</td><td>B</td><td>2023-05-16</td><td>UK</td><td>Swiggy</td><td>2023</td><td>5</td><td>2</td></tr><tr><td>3</td><td>B</td><td>2023-07-05</td><td>UK</td><td>Swiggy</td><td>2023</td><td>7</td><td>3</td></tr><tr><td>3</td><td>C</td><td>2023-05-05</td><td>UK</td><td>Restaurant</td><td>2023</td><td>5</td><td>2</td></tr><tr><td>1</td><td>C</td><td>2023-05-05</td><td>USA</td><td>Swiggy</td><td>2023</td><td>5</td><td>2</td></tr><tr><td>6</td><td>C</td><td>2023-05-07</td><td>USA</td><td>zomato</td><td>2023</td><td>5</td><td>2</td></tr><tr><td>3</td><td>D</td><td>2022-07-16</td><td>USA</td><td>zomato</td><td>2022</td><td>7</td><td>3</td></tr><tr><td>5</td><td>D</td><td>2023-07-05</td><td>USA</td><td>zomato</td><td>2023</td><td>7</td><td>3</td></tr><tr><td>3</td><td>E</td><td>2023-07-05</td><td>USA</td><td>Swiggy</td><td>2023</td><td>7</td><td>3</td></tr><tr><td>4</td><td>E</td><td>2022-07-05</td><td>USA</td><td>zomato</td><td>2022</td><td>7</td><td>3</td></tr><tr><td>4</td><td>E</td><td>2023-07-07</td><td>USA</td><td>zomato</td><td>2023</td><td>7</td><td>3</td></tr><tr><td>1</td><td>A</td><td>2023-06-06</td><td>India</td><td>Swiggy</td><td>2023</td><td>6</td><td>2</td></tr><tr><td>2</td><td>A</td><td>2022-06-06</td><td>India</td><td>Swiggy</td><td>2022</td><td>6</td><td>2</td></tr><tr><td>2</td><td>A</td><td>2023-06-11</td><td>India</td><td>Swiggy</td><td>2023</td><td>6</td><td>2</td></tr><tr><td>3</td><td>A</td><td>2023-06-10</td><td>India</td><td>Restaurant</td><td>2023</td><td>6</td><td>2</td></tr><tr><td>3</td><td>A</td><td>2022-06-11</td><td>India</td><td>Swiggy</td><td>2022</td><td>6</td><td>2</td></tr><tr><td>3</td><td>A</td><td>2023-06-11</td><td>India</td><td>Restaurant</td><td>2023</td><td>6</td><td>2</td></tr><tr><td>2</td><td>B</td><td>2022-02-06</td><td>India</td><td>Swiggy</td><td>2022</td><td>2</td><td>1</td></tr><tr><td>2</td><td>B</td><td>2023-06-02</td><td>India</td><td>Swiggy</td><td>2023</td><td>6</td><td>2</td></tr><tr><td>1</td><td>B</td><td>2023-06-04</td><td>India</td><td>Restaurant</td><td>2023</td><td>6</td><td>2</td></tr><tr><td>1</td><td>B</td><td>2023-02-11</td><td>India</td><td>Swiggy</td><td>2023</td><td>2</td><td>1</td></tr><tr><td>3</td><td>B</td><td>2023-06-16</td><td>India</td><td>zomato</td><td>2023</td><td>6</td><td>2</td></tr><tr><td>3</td><td>B</td><td>2022-02-06</td><td>India</td><td>zomato</td><td>2022</td><td>2</td><td>1</td></tr><tr><td>3</td><td>C</td><td>2023-06-06</td><td>India</td><td>zomato</td><td>2023</td><td>6</td><td>2</td></tr><tr><td>1</td><td>C</td><td>2023-06-06</td><td>UK</td><td>Swiggy</td><td>2023</td><td>6</td><td>2</td></tr><tr><td>6</td><td>C</td><td>2022-06-11</td><td>UK</td><td>zomato</td><td>2022</td><td>6</td><td>2</td></tr><tr><td>3</td><td>D</td><td>2023-02-16</td><td>UK</td><td>Restaurant</td><td>2023</td><td>2</td><td>1</td></tr><tr><td>5</td><td>D</td><td>2022-02-06</td><td>UK</td><td>zomato</td><td>2022</td><td>2</td><td>1</td></tr><tr><td>3</td><td>E</td><td>2023-02-06</td><td>UK</td><td>Restaurant</td><td>2023</td><td>2</td><td>1</td></tr><tr><td>4</td><td>E</td><td>2023-02-06</td><td>UK</td><td>Swiggy</td><td>2023</td><td>2</td><td>1</td></tr><tr><td>4</td><td>E</td><td>2023-02-11</td><td>UK</td><td>Restaurant</td><td>2023</td><td>2</td><td>1</td></tr><tr><td>2</td><td>A</td><td>2022-06-06</td><td>UK</td><td>Swiggy</td><td>2022</td><td>6</td><td>2</td></tr><tr><td>2</td><td>A</td><td>2023-06-11</td><td>UK</td><td>Swiggy</td><td>2023</td><td>6</td><td>2</td></tr><tr><td>3</td><td>A</td><td>2023-06-10</td><td>UK</td><td>Restaurant</td><td>2023</td><td>6</td><td>2</td></tr><tr><td>3</td><td>A</td><td>2022-06-11</td><td>UK</td><td>Swiggy</td><td>2022</td><td>6</td><td>2</td></tr><tr><td>3</td><td>A</td><td>2023-06-11</td><td>UK</td><td>zomato</td><td>2023</td><td>6</td><td>2</td></tr><tr><td>2</td><td>B</td><td>2022-11-06</td><td>UK</td><td>zomato</td><td>2022</td><td>11</td><td>4</td></tr><tr><td>2</td><td>B</td><td>2023-06-02</td><td>UK</td><td>zomato</td><td>2023</td><td>6</td><td>2</td></tr><tr><td>1</td><td>B</td><td>2023-06-04</td><td>UK</td><td>Swiggy</td><td>2023</td><td>6</td><td>2</td></tr><tr><td>1</td><td>B</td><td>2023-11-11</td><td>UK</td><td>Restaurant</td><td>2023</td><td>11</td><td>4</td></tr><tr><td>3</td><td>B</td><td>2023-06-16</td><td>UK</td><td>Swiggy</td><td>2023</td><td>6</td><td>2</td></tr><tr><td>3</td><td>B</td><td>2023-11-06</td><td>UK</td><td>Swiggy</td><td>2023</td><td>11</td><td>4</td></tr><tr><td>3</td><td>C</td><td>2023-06-06</td><td>UK</td><td>Restaurant</td><td>2023</td><td>6</td><td>2</td></tr><tr><td>1</td><td>C</td><td>2023-06-06</td><td>USA</td><td>Swiggy</td><td>2023</td><td>6</td><td>2</td></tr><tr><td>6</td><td>C</td><td>2023-06-11</td><td>USA</td><td>zomato</td><td>2023</td><td>6</td><td>2</td></tr><tr><td>3</td><td>D</td><td>2022-11-16</td><td>USA</td><td>zomato</td><td>2022</td><td>11</td><td>4</td></tr><tr><td>5</td><td>D</td><td>2023-11-06</td><td>USA</td><td>zomato</td><td>2023</td><td>11</td><td>4</td></tr><tr><td>3</td><td>E</td><td>2023-11-06</td><td>USA</td><td>Swiggy</td><td>2023</td><td>11</td><td>4</td></tr><tr><td>4</td><td>E</td><td>2022-11-06</td><td>USA</td><td>zomato</td><td>2022</td><td>11</td><td>4</td></tr><tr><td>4</td><td>E</td><td>2023-11-11</td><td>USA</td><td>zomato</td><td>2023</td><td>11</td><td>4</td></tr></tbody></table></div>"
      ]
     },
     "metadata": {
      "application/vnd.databricks.v1+output": {
       "addedWidgets": {},
       "aggData": [],
       "aggError": "",
       "aggOverflow": false,
       "aggSchema": [],
       "aggSeriesLimitReached": false,
       "aggType": "",
       "arguments": {},
       "columnCustomDisplayInfos": {},
       "data": [
        [
         1,
         "A",
         "2023-01-01",
         "India",
         "Swiggy",
         2023,
         1,
         1
        ],
        [
         2,
         "A",
         "2022-01-01",
         "India",
         "Swiggy",
         2022,
         1,
         1
        ],
        [
         2,
         "A",
         "2023-01-07",
         "India",
         "Swiggy",
         2023,
         1,
         1
        ],
        [
         3,
         "A",
         "2023-01-10",
         "India",
         "Restaurant",
         2023,
         1,
         1
        ],
        [
         3,
         "A",
         "2022-01-11",
         "India",
         "Swiggy",
         2022,
         1,
         1
        ],
        [
         3,
         "A",
         "2023-01-11",
         "India",
         "Restaurant",
         2023,
         1,
         1
        ],
        [
         2,
         "B",
         "2022-02-01",
         "India",
         "Swiggy",
         2022,
         2,
         1
        ],
        [
         2,
         "B",
         "2023-01-02",
         "India",
         "Swiggy",
         2023,
         1,
         1
        ],
        [
         1,
         "B",
         "2023-01-04",
         "India",
         "Restaurant",
         2023,
         1,
         1
        ],
        [
         1,
         "B",
         "2023-02-11",
         "India",
         "Swiggy",
         2023,
         2,
         1
        ],
        [
         3,
         "B",
         "2023-01-16",
         "India",
         "zomato",
         2023,
         1,
         1
        ],
        [
         3,
         "B",
         "2022-02-01",
         "India",
         "zomato",
         2022,
         2,
         1
        ],
        [
         3,
         "C",
         "2023-01-01",
         "India",
         "zomato",
         2023,
         1,
         1
        ],
        [
         1,
         "C",
         "2023-01-01",
         "UK",
         "Swiggy",
         2023,
         1,
         1
        ],
        [
         6,
         "C",
         "2022-01-07",
         "UK",
         "zomato",
         2022,
         1,
         1
        ],
        [
         3,
         "D",
         "2023-02-16",
         "UK",
         "Restaurant",
         2023,
         2,
         1
        ],
        [
         5,
         "D",
         "2022-02-01",
         "UK",
         "zomato",
         2022,
         2,
         1
        ],
        [
         3,
         "E",
         "2023-02-01",
         "UK",
         "Restaurant",
         2023,
         2,
         1
        ],
        [
         4,
         "E",
         "2023-02-01",
         "UK",
         "Swiggy",
         2023,
         2,
         1
        ],
        [
         4,
         "E",
         "2023-02-07",
         "UK",
         "Restaurant",
         2023,
         2,
         1
        ],
        [
         2,
         "A",
         "2022-01-01",
         "UK",
         "Swiggy",
         2022,
         1,
         1
        ],
        [
         2,
         "A",
         "2023-01-07",
         "UK",
         "Swiggy",
         2023,
         1,
         1
        ],
        [
         3,
         "A",
         "2023-01-10",
         "UK",
         "Restaurant",
         2023,
         1,
         1
        ],
        [
         3,
         "A",
         "2022-01-11",
         "UK",
         "Swiggy",
         2022,
         1,
         1
        ],
        [
         3,
         "A",
         "2023-01-11",
         "UK",
         "zomato",
         2023,
         1,
         1
        ],
        [
         2,
         "B",
         "2022-03-01",
         "UK",
         "zomato",
         2022,
         3,
         1
        ],
        [
         2,
         "B",
         "2023-01-02",
         "UK",
         "zomato",
         2023,
         1,
         1
        ],
        [
         1,
         "B",
         "2023-01-04",
         "UK",
         "Swiggy",
         2023,
         1,
         1
        ],
        [
         1,
         "B",
         "2023-03-11",
         "UK",
         "Restaurant",
         2023,
         3,
         1
        ],
        [
         3,
         "B",
         "2023-01-16",
         "UK",
         "Swiggy",
         2023,
         1,
         1
        ],
        [
         3,
         "B",
         "2023-03-01",
         "UK",
         "Swiggy",
         2023,
         3,
         1
        ],
        [
         3,
         "C",
         "2023-01-01",
         "UK",
         "Restaurant",
         2023,
         1,
         1
        ],
        [
         1,
         "C",
         "2023-01-01",
         "USA",
         "Swiggy",
         2023,
         1,
         1
        ],
        [
         6,
         "C",
         "2023-01-07",
         "USA",
         "zomato",
         2023,
         1,
         1
        ],
        [
         3,
         "D",
         "2022-03-16",
         "USA",
         "zomato",
         2022,
         3,
         1
        ],
        [
         5,
         "D",
         "2023-03-01",
         "USA",
         "zomato",
         2023,
         3,
         1
        ],
        [
         3,
         "E",
         "2023-03-01",
         "USA",
         "Swiggy",
         2023,
         3,
         1
        ],
        [
         4,
         "E",
         "2022-03-01",
         "USA",
         "zomato",
         2022,
         3,
         1
        ],
        [
         4,
         "E",
         "2023-03-07",
         "USA",
         "zomato",
         2023,
         3,
         1
        ],
        [
         1,
         "A",
         "2023-05-05",
         "India",
         "Swiggy",
         2023,
         5,
         2
        ],
        [
         2,
         "A",
         "2022-05-05",
         "India",
         "Swiggy",
         2022,
         5,
         2
        ],
        [
         2,
         "A",
         "2023-05-07",
         "India",
         "Swiggy",
         2023,
         5,
         2
        ],
        [
         3,
         "A",
         "2023-05-10",
         "India",
         "Restaurant",
         2023,
         5,
         2
        ],
        [
         3,
         "A",
         "2022-05-11",
         "India",
         "Swiggy",
         2022,
         5,
         2
        ],
        [
         3,
         "A",
         "2023-05-11",
         "India",
         "Restaurant",
         2023,
         5,
         2
        ],
        [
         2,
         "B",
         "2022-02-05",
         "India",
         "Swiggy",
         2022,
         2,
         1
        ],
        [
         2,
         "B",
         "2023-05-02",
         "India",
         "Swiggy",
         2023,
         5,
         2
        ],
        [
         1,
         "B",
         "2023-05-04",
         "India",
         "Restaurant",
         2023,
         5,
         2
        ],
        [
         1,
         "B",
         "2023-02-11",
         "India",
         "Swiggy",
         2023,
         2,
         1
        ],
        [
         3,
         "B",
         "2023-05-16",
         "India",
         "zomato",
         2023,
         5,
         2
        ],
        [
         3,
         "B",
         "2022-02-05",
         "India",
         "zomato",
         2022,
         2,
         1
        ],
        [
         3,
         "C",
         "2023-05-05",
         "India",
         "zomato",
         2023,
         5,
         2
        ],
        [
         1,
         "C",
         "2023-05-05",
         "UK",
         "Swiggy",
         2023,
         5,
         2
        ],
        [
         6,
         "C",
         "2022-05-07",
         "UK",
         "zomato",
         2022,
         5,
         2
        ],
        [
         3,
         "D",
         "2023-02-16",
         "UK",
         "Restaurant",
         2023,
         2,
         1
        ],
        [
         5,
         "D",
         "2022-02-05",
         "UK",
         "zomato",
         2022,
         2,
         1
        ],
        [
         3,
         "E",
         "2023-02-05",
         "UK",
         "Restaurant",
         2023,
         2,
         1
        ],
        [
         4,
         "E",
         "2023-02-05",
         "UK",
         "Swiggy",
         2023,
         2,
         1
        ],
        [
         4,
         "E",
         "2023-02-07",
         "UK",
         "Restaurant",
         2023,
         2,
         1
        ],
        [
         2,
         "A",
         "2022-05-05",
         "UK",
         "Swiggy",
         2022,
         5,
         2
        ],
        [
         2,
         "A",
         "2023-05-07",
         "UK",
         "Swiggy",
         2023,
         5,
         2
        ],
        [
         3,
         "A",
         "2023-05-10",
         "UK",
         "Restaurant",
         2023,
         5,
         2
        ],
        [
         3,
         "A",
         "2022-05-11",
         "UK",
         "Swiggy",
         2022,
         5,
         2
        ],
        [
         3,
         "A",
         "2023-05-11",
         "UK",
         "zomato",
         2023,
         5,
         2
        ],
        [
         2,
         "B",
         "2022-07-05",
         "UK",
         "zomato",
         2022,
         7,
         3
        ],
        [
         2,
         "B",
         "2023-05-02",
         "UK",
         "zomato",
         2023,
         5,
         2
        ],
        [
         1,
         "B",
         "2023-05-04",
         "UK",
         "Swiggy",
         2023,
         5,
         2
        ],
        [
         1,
         "B",
         "2023-07-11",
         "UK",
         "Restaurant",
         2023,
         7,
         3
        ],
        [
         3,
         "B",
         "2023-05-16",
         "UK",
         "Swiggy",
         2023,
         5,
         2
        ],
        [
         3,
         "B",
         "2023-07-05",
         "UK",
         "Swiggy",
         2023,
         7,
         3
        ],
        [
         3,
         "C",
         "2023-05-05",
         "UK",
         "Restaurant",
         2023,
         5,
         2
        ],
        [
         1,
         "C",
         "2023-05-05",
         "USA",
         "Swiggy",
         2023,
         5,
         2
        ],
        [
         6,
         "C",
         "2023-05-07",
         "USA",
         "zomato",
         2023,
         5,
         2
        ],
        [
         3,
         "D",
         "2022-07-16",
         "USA",
         "zomato",
         2022,
         7,
         3
        ],
        [
         5,
         "D",
         "2023-07-05",
         "USA",
         "zomato",
         2023,
         7,
         3
        ],
        [
         3,
         "E",
         "2023-07-05",
         "USA",
         "Swiggy",
         2023,
         7,
         3
        ],
        [
         4,
         "E",
         "2022-07-05",
         "USA",
         "zomato",
         2022,
         7,
         3
        ],
        [
         4,
         "E",
         "2023-07-07",
         "USA",
         "zomato",
         2023,
         7,
         3
        ],
        [
         1,
         "A",
         "2023-06-06",
         "India",
         "Swiggy",
         2023,
         6,
         2
        ],
        [
         2,
         "A",
         "2022-06-06",
         "India",
         "Swiggy",
         2022,
         6,
         2
        ],
        [
         2,
         "A",
         "2023-06-11",
         "India",
         "Swiggy",
         2023,
         6,
         2
        ],
        [
         3,
         "A",
         "2023-06-10",
         "India",
         "Restaurant",
         2023,
         6,
         2
        ],
        [
         3,
         "A",
         "2022-06-11",
         "India",
         "Swiggy",
         2022,
         6,
         2
        ],
        [
         3,
         "A",
         "2023-06-11",
         "India",
         "Restaurant",
         2023,
         6,
         2
        ],
        [
         2,
         "B",
         "2022-02-06",
         "India",
         "Swiggy",
         2022,
         2,
         1
        ],
        [
         2,
         "B",
         "2023-06-02",
         "India",
         "Swiggy",
         2023,
         6,
         2
        ],
        [
         1,
         "B",
         "2023-06-04",
         "India",
         "Restaurant",
         2023,
         6,
         2
        ],
        [
         1,
         "B",
         "2023-02-11",
         "India",
         "Swiggy",
         2023,
         2,
         1
        ],
        [
         3,
         "B",
         "2023-06-16",
         "India",
         "zomato",
         2023,
         6,
         2
        ],
        [
         3,
         "B",
         "2022-02-06",
         "India",
         "zomato",
         2022,
         2,
         1
        ],
        [
         3,
         "C",
         "2023-06-06",
         "India",
         "zomato",
         2023,
         6,
         2
        ],
        [
         1,
         "C",
         "2023-06-06",
         "UK",
         "Swiggy",
         2023,
         6,
         2
        ],
        [
         6,
         "C",
         "2022-06-11",
         "UK",
         "zomato",
         2022,
         6,
         2
        ],
        [
         3,
         "D",
         "2023-02-16",
         "UK",
         "Restaurant",
         2023,
         2,
         1
        ],
        [
         5,
         "D",
         "2022-02-06",
         "UK",
         "zomato",
         2022,
         2,
         1
        ],
        [
         3,
         "E",
         "2023-02-06",
         "UK",
         "Restaurant",
         2023,
         2,
         1
        ],
        [
         4,
         "E",
         "2023-02-06",
         "UK",
         "Swiggy",
         2023,
         2,
         1
        ],
        [
         4,
         "E",
         "2023-02-11",
         "UK",
         "Restaurant",
         2023,
         2,
         1
        ],
        [
         2,
         "A",
         "2022-06-06",
         "UK",
         "Swiggy",
         2022,
         6,
         2
        ],
        [
         2,
         "A",
         "2023-06-11",
         "UK",
         "Swiggy",
         2023,
         6,
         2
        ],
        [
         3,
         "A",
         "2023-06-10",
         "UK",
         "Restaurant",
         2023,
         6,
         2
        ],
        [
         3,
         "A",
         "2022-06-11",
         "UK",
         "Swiggy",
         2022,
         6,
         2
        ],
        [
         3,
         "A",
         "2023-06-11",
         "UK",
         "zomato",
         2023,
         6,
         2
        ],
        [
         2,
         "B",
         "2022-11-06",
         "UK",
         "zomato",
         2022,
         11,
         4
        ],
        [
         2,
         "B",
         "2023-06-02",
         "UK",
         "zomato",
         2023,
         6,
         2
        ],
        [
         1,
         "B",
         "2023-06-04",
         "UK",
         "Swiggy",
         2023,
         6,
         2
        ],
        [
         1,
         "B",
         "2023-11-11",
         "UK",
         "Restaurant",
         2023,
         11,
         4
        ],
        [
         3,
         "B",
         "2023-06-16",
         "UK",
         "Swiggy",
         2023,
         6,
         2
        ],
        [
         3,
         "B",
         "2023-11-06",
         "UK",
         "Swiggy",
         2023,
         11,
         4
        ],
        [
         3,
         "C",
         "2023-06-06",
         "UK",
         "Restaurant",
         2023,
         6,
         2
        ],
        [
         1,
         "C",
         "2023-06-06",
         "USA",
         "Swiggy",
         2023,
         6,
         2
        ],
        [
         6,
         "C",
         "2023-06-11",
         "USA",
         "zomato",
         2023,
         6,
         2
        ],
        [
         3,
         "D",
         "2022-11-16",
         "USA",
         "zomato",
         2022,
         11,
         4
        ],
        [
         5,
         "D",
         "2023-11-06",
         "USA",
         "zomato",
         2023,
         11,
         4
        ],
        [
         3,
         "E",
         "2023-11-06",
         "USA",
         "Swiggy",
         2023,
         11,
         4
        ],
        [
         4,
         "E",
         "2022-11-06",
         "USA",
         "zomato",
         2022,
         11,
         4
        ],
        [
         4,
         "E",
         "2023-11-11",
         "USA",
         "zomato",
         2023,
         11,
         4
        ]
       ],
       "datasetInfos": [],
       "dbfsResultPath": null,
       "isJsonSchema": true,
       "metadata": {},
       "overflow": false,
       "plotOptions": {
        "customPlotOptions": {},
        "displayType": "table",
        "pivotAggregation": null,
        "pivotColumns": null,
        "xColumns": null,
        "yColumns": null
       },
       "removedWidgets": [],
       "schema": [
        {
         "metadata": "{}",
         "name": "product_id",
         "type": "\"integer\""
        },
        {
         "metadata": "{}",
         "name": "customer_id",
         "type": "\"string\""
        },
        {
         "metadata": "{}",
         "name": "order_date",
         "type": "\"date\""
        },
        {
         "metadata": "{}",
         "name": "location",
         "type": "\"string\""
        },
        {
         "metadata": "{}",
         "name": "source_order",
         "type": "\"string\""
        },
        {
         "metadata": "{}",
         "name": "Order_year",
         "type": "\"integer\""
        },
        {
         "metadata": "{}",
         "name": "Order_month",
         "type": "\"integer\""
        },
        {
         "metadata": "{}",
         "name": "Order_quarter",
         "type": "\"integer\""
        }
       ],
       "type": "table"
      }
     },
     "output_type": "display_data"
    }
   ],
   "source": [
    "from pyspark.sql.functions import month, year, quarter\n",
    "\n",
    "sales_df = sales_df.withColumn(\"Order_year\", year(sales_df.order_date)) #  product ordered year\n",
    "sales_df = sales_df.withColumn(\"Order_month\", month(sales_df.order_date)) #  product ordered month\n",
    "sales_df = sales_df.withColumn(\"Order_quarter\", quarter(sales_df.order_date)) # product ordered quarter\n",
    "display(sales_df)"
   ]
  },
  {
   "cell_type": "code",
   "execution_count": 0,
   "metadata": {
    "application/vnd.databricks.v1+cell": {
     "cellMetadata": {
      "byteLimit": 2048000,
      "rowLimit": 10000
     },
     "inputWidgets": {},
     "nuid": "877f0fcd-e129-4f7e-b190-8302bd2491b4",
     "showTitle": true,
     "title": "Menu Dataframe"
    }
   },
   "outputs": [
    {
     "output_type": "display_data",
     "data": {
      "text/html": [
       "<style scoped>\n",
       "  .table-result-container {\n",
       "    max-height: 300px;\n",
       "    overflow: auto;\n",
       "  }\n",
       "  table, th, td {\n",
       "    border: 1px solid black;\n",
       "    border-collapse: collapse;\n",
       "  }\n",
       "  th, td {\n",
       "    padding: 5px;\n",
       "  }\n",
       "  th {\n",
       "    text-align: left;\n",
       "  }\n",
       "</style><div class='table-result-container'><table class='table-result'><thead style='background-color: white'><tr><th>product_id</th><th>Product_name</th><th>Price</th></tr></thead><tbody><tr><td>1</td><td> PIZZA</td><td> 10</td></tr><tr><td>2</td><td> Chowmin</td><td> 15</td></tr><tr><td>3</td><td> sandwich</td><td> 6</td></tr><tr><td>4</td><td> Burger</td><td> 7</td></tr><tr><td>5</td><td> Pasta</td><td> 8</td></tr><tr><td>6</td><td> Fish filet</td><td> 18</td></tr></tbody></table></div>"
      ]
     },
     "metadata": {
      "application/vnd.databricks.v1+output": {
       "addedWidgets": {},
       "aggData": [],
       "aggError": "",
       "aggOverflow": false,
       "aggSchema": [],
       "aggSeriesLimitReached": false,
       "aggType": "",
       "arguments": {},
       "columnCustomDisplayInfos": {},
       "data": [
        [
         1,
         " PIZZA",
         " 10"
        ],
        [
         2,
         " Chowmin",
         " 15"
        ],
        [
         3,
         " sandwich",
         " 6"
        ],
        [
         4,
         " Burger",
         " 7"
        ],
        [
         5,
         " Pasta",
         " 8"
        ],
        [
         6,
         " Fish filet",
         " 18"
        ]
       ],
       "datasetInfos": [],
       "dbfsResultPath": null,
       "isJsonSchema": true,
       "metadata": {},
       "overflow": false,
       "plotOptions": {
        "customPlotOptions": {},
        "displayType": "table",
        "pivotAggregation": null,
        "pivotColumns": null,
        "xColumns": null,
        "yColumns": null
       },
       "removedWidgets": [],
       "schema": [
        {
         "metadata": "{}",
         "name": "product_id",
         "type": "\"integer\""
        },
        {
         "metadata": "{}",
         "name": "Product_name",
         "type": "\"string\""
        },
        {
         "metadata": "{}",
         "name": "Price",
         "type": "\"string\""
        }
       ],
       "type": "table"
      }
     },
     "output_type": "display_data"
    }
   ],
   "source": [
    "from pyspark.sql.types import StructType, StructField, IntegerType, StringType, DateType\n",
    "\n",
    "schema = StructType([\n",
    "    StructField(\"product_id\", IntegerType(), True),\n",
    "    StructField(\"Product_name\", StringType(), True),\n",
    "    StructField(\"Price\", StringType(), True)\n",
    "])\n",
    "\n",
    "menu_df = spark.read.format('csv').option(\"inferschema\", \"true\").schema(schema).load(\"/FileStore/tables/menu_csv.txt\")\n",
    "display(menu_df)"
   ]
  },
  {
   "cell_type": "code",
   "execution_count": 0,
   "metadata": {
    "application/vnd.databricks.v1+cell": {
     "cellMetadata": {
      "byteLimit": 2048000,
      "rowLimit": 10000
     },
     "inputWidgets": {},
     "nuid": "c0f4571f-8545-49f9-bc97-c9c838f44a86",
     "showTitle": true,
     "title": "Total amount spent by each customer"
    }
   },
   "outputs": [
    {
     "output_type": "display_data",
     "data": {
      "text/html": [
       "<style scoped>\n",
       "  .table-result-container {\n",
       "    max-height: 300px;\n",
       "    overflow: auto;\n",
       "  }\n",
       "  table, th, td {\n",
       "    border: 1px solid black;\n",
       "    border-collapse: collapse;\n",
       "  }\n",
       "  th, td {\n",
       "    padding: 5px;\n",
       "  }\n",
       "  th {\n",
       "    text-align: left;\n",
       "  }\n",
       "</style><div class='table-result-container'><table class='table-result'><thead style='background-color: white'><tr><th>customer_id</th><th>sum(Price)</th></tr></thead><tbody><tr><td>A</td><td>318.0</td></tr><tr><td>B</td><td>372.0</td></tr><tr><td>C</td><td>204.0</td></tr><tr><td>D</td><td>84.0</td></tr><tr><td>E</td><td>120.0</td></tr></tbody></table></div>"
      ]
     },
     "metadata": {
      "application/vnd.databricks.v1+output": {
       "addedWidgets": {},
       "aggData": [],
       "aggError": "",
       "aggOverflow": false,
       "aggSchema": [],
       "aggSeriesLimitReached": false,
       "aggType": "",
       "arguments": {},
       "columnCustomDisplayInfos": {},
       "data": [
        [
         "A",
         318.0
        ],
        [
         "B",
         372.0
        ],
        [
         "C",
         204.0
        ],
        [
         "D",
         84.0
        ],
        [
         "E",
         120.0
        ]
       ],
       "datasetInfos": [],
       "dbfsResultPath": null,
       "isJsonSchema": true,
       "metadata": {},
       "overflow": false,
       "plotOptions": {
        "customPlotOptions": {},
        "displayType": "table",
        "pivotAggregation": null,
        "pivotColumns": null,
        "xColumns": null,
        "yColumns": null
       },
       "removedWidgets": [],
       "schema": [
        {
         "metadata": "{}",
         "name": "customer_id",
         "type": "\"string\""
        },
        {
         "metadata": "{}",
         "name": "sum(Price)",
         "type": "\"double\""
        }
       ],
       "type": "table"
      }
     },
     "output_type": "display_data"
    },
    {
     "output_type": "display_data",
     "data": {
      "text/plain": [
       "Databricks visualization. Run in Databricks to view."
      ]
     },
     "metadata": {
      "application/vnd.databricks.v1.subcommand+json": {
       "baseErrorDetails": null,
       "bindings": {},
       "collapsed": false,
       "command": "%python\n__backend_agg_display_orig = display\n__backend_agg_dfs = []\ndef __backend_agg_display_new(df):\n    __backend_agg_df_modules = [\"pandas.core.frame\", \"databricks.koalas.frame\", \"pyspark.sql.dataframe\", \"pyspark.pandas.frame\", \"pyspark.sql.connect.dataframe\"]\n    if (type(df).__module__ in __backend_agg_df_modules and type(df).__name__ == 'DataFrame') or isinstance(df, list):\n        __backend_agg_dfs.append(df)\n\ndisplay = __backend_agg_display_new\n\ndef __backend_agg_user_code_fn():\n    import base64\n    exec(base64.standard_b64decode(\"dG90YWxfYW1vdW50X3NwZW50ID0gKHNhbGVzX2RmLmpvaW4obWVudV9kZiwgInByb2R1Y3RfaWQiKS5ncm91cEJ5KCJjdXN0b21lcl9pZCIpLmFnZyh7IlByaWNlIjoic3VtIn0pCiAgICAgICAgICAgICAgICAgICAgICAub3JkZXJCeSgiY3VzdG9tZXJfaWQiKSkKCmRpc3BsYXkodG90YWxfYW1vdW50X3NwZW50KQ==\").decode())\n\ntry:\n    # run user code\n    __backend_agg_user_code_fn()\n\n    #reset display function\n    display = __backend_agg_display_orig\n\n    if len(__backend_agg_dfs) > 0:\n        # create a temp view\n        if type(__backend_agg_dfs[0]).__module__ == \"databricks.koalas.frame\":\n            # koalas dataframe\n            __backend_agg_dfs[0].to_spark().createOrReplaceTempView(\"DatabricksView4adb52c\")\n        elif type(__backend_agg_dfs[0]).__module__ == \"pandas.core.frame\" or isinstance(__backend_agg_dfs[0], list):\n            # pandas dataframe\n            spark.createDataFrame(__backend_agg_dfs[0]).createOrReplaceTempView(\"DatabricksView4adb52c\")\n        else:\n            __backend_agg_dfs[0].createOrReplaceTempView(\"DatabricksView4adb52c\")\n        #run backend agg\n        display(spark.sql(\"\"\"WITH q AS (select * from DatabricksView4adb52c) SELECT `customer_id`,SUM(`sum(Price)`) `column_82a4c1a52` FROM q GROUP BY `customer_id`\"\"\"))\n    else:\n        displayHTML(\"dataframe no longer exists. If you're using dataframe.display(), use display(dataframe) instead.\")\n\n\nfinally:\n    spark.sql(\"drop view if exists DatabricksView4adb52c\")\n    display = __backend_agg_display_orig\n    del __backend_agg_display_new\n    del __backend_agg_display_orig\n    del __backend_agg_dfs\n    del __backend_agg_user_code_fn\n\n",
       "commandTitle": "Visualization 1",
       "commandType": "auto",
       "commandVersion": 0,
       "commentThread": [],
       "commentsVisible": false,
       "contentSha256Hex": null,
       "customPlotOptions": {
        "redashChart": [
         {
          "key": "type",
          "value": "CHART"
         },
         {
          "key": "options",
          "value": {
           "alignYAxesAtZero": true,
           "coefficient": 1,
           "columnConfigurationMap": {
            "x": {
             "column": "customer_id",
             "id": "column_82a4c1a51"
            },
            "y": [
             {
              "column": "sum(Price)",
              "id": "column_82a4c1a52",
              "transform": "SUM"
             }
            ]
           },
           "dateTimeFormat": "DD/MM/YYYY HH:mm",
           "direction": {
            "type": "counterclockwise"
           },
           "error_y": {
            "type": "data",
            "visible": true
           },
           "globalSeriesType": "pie",
           "legend": {
            "traceorder": "normal"
           },
           "missingValuesAsZero": true,
           "numberFormat": "0,0.[00000]",
           "percentFormat": "0[.]00%",
           "series": {
            "error_y": {
             "type": "data",
             "visible": true
            },
            "stacking": null
           },
           "seriesOptions": {
            "column_82a4c1a52": {
             "name": "sum(Price)",
             "type": "pie",
             "yAxis": 0
            }
           },
           "showDataLabels": true,
           "sizemode": "diameter",
           "sortX": true,
           "sortY": true,
           "swappedAxes": false,
           "textFormat": "",
           "useAggregationsUi": true,
           "valuesOptions": {},
           "version": 2,
           "xAxis": {
            "labels": {
             "enabled": true
            },
            "type": "-"
           },
           "yAxis": [
            {
             "type": "-"
            },
            {
             "opposite": true,
             "type": "-"
            }
           ]
          }
         }
        ]
       },
       "datasetPreviewNameToCmdIdMap": {},
       "diffDeletes": [],
       "diffInserts": [],
       "displayType": "redashChart",
       "error": null,
       "errorDetails": null,
       "errorSummary": null,
       "errorTraceType": null,
       "finishTime": 0,
       "globalVars": {},
       "guid": "",
       "height": "auto",
       "hideCommandCode": false,
       "hideCommandResult": false,
       "iPythonMetadata": null,
       "inputWidgets": {},
       "isLockedInExamMode": false,
       "latestUser": "a user",
       "latestUserId": null,
       "listResultMetadata": null,
       "metadata": {
        "byteLimit": 2048000,
        "rowLimit": 10000
       },
       "nuid": "7d6fde52-2031-48bc-9fee-53c30f5d7628",
       "origId": 0,
       "parentHierarchy": [],
       "pivotAggregation": null,
       "pivotColumns": null,
       "position": 5.0,
       "resultDbfsErrorMessage": null,
       "resultDbfsStatus": "INLINED_IN_TREE",
       "results": null,
       "showCommandTitle": false,
       "startTime": 0,
       "state": "finished",
       "streamStates": {},
       "subcommandOptions": {
        "queryPlan": {
         "groups": [
          {
           "column": "customer_id",
           "type": "column"
          }
         ],
         "selects": [
          {
           "column": "customer_id",
           "type": "column"
          },
          {
           "alias": "column_82a4c1a52",
           "args": [
            {
             "column": "sum(Price)",
             "type": "column"
            }
           ],
           "function": "SUM",
           "type": "function"
          }
         ]
        }
       },
       "submitTime": 0,
       "subtype": "tableResultSubCmd.visualization",
       "tableResultIndex": 0,
       "useConsistentColors": false,
       "version": "CommandV1",
       "width": "auto",
       "workflows": [],
       "xColumns": null,
       "yColumns": null
      }
     },
     "output_type": "display_data"
    }
   ],
   "source": [
    "total_amount_spent = (sales_df.join(menu_df, \"product_id\").groupBy(\"customer_id\").agg({\"Price\":\"sum\"})\n",
    "                      .orderBy(\"customer_id\"))\n",
    "\n",
    "display(total_amount_spent)"
   ]
  },
  {
   "cell_type": "code",
   "execution_count": 0,
   "metadata": {
    "application/vnd.databricks.v1+cell": {
     "cellMetadata": {
      "byteLimit": 2048000,
      "rowLimit": 10000
     },
     "inputWidgets": {},
     "nuid": "5fde25e4-2d7e-40ac-abf5-5922a613d187",
     "showTitle": true,
     "title": "Total amount spent by each customer based on food category"
    }
   },
   "outputs": [
    {
     "output_type": "display_data",
     "data": {
      "text/html": [
       "<style scoped>\n",
       "  .table-result-container {\n",
       "    max-height: 300px;\n",
       "    overflow: auto;\n",
       "  }\n",
       "  table, th, td {\n",
       "    border: 1px solid black;\n",
       "    border-collapse: collapse;\n",
       "  }\n",
       "  th, td {\n",
       "    padding: 5px;\n",
       "  }\n",
       "  th {\n",
       "    text-align: left;\n",
       "  }\n",
       "</style><div class='table-result-container'><table class='table-result'><thead style='background-color: white'><tr><th>customer_id</th><th>Product_name</th><th>sum(Price)</th></tr></thead><tbody><tr><td>A</td><td> sandwich</td><td>108.0</td></tr><tr><td>A</td><td> Chowmin</td><td>180.0</td></tr><tr><td>A</td><td> PIZZA</td><td>30.0</td></tr><tr><td>B</td><td> PIZZA</td><td>120.0</td></tr><tr><td>B</td><td> sandwich</td><td>72.0</td></tr><tr><td>B</td><td> Chowmin</td><td>180.0</td></tr><tr><td>C</td><td> Fish filet</td><td>108.0</td></tr><tr><td>C</td><td> sandwich</td><td>36.0</td></tr><tr><td>C</td><td> PIZZA</td><td>60.0</td></tr><tr><td>D</td><td> Pasta</td><td>48.0</td></tr><tr><td>D</td><td> sandwich</td><td>36.0</td></tr><tr><td>E</td><td> sandwich</td><td>36.0</td></tr><tr><td>E</td><td> Burger</td><td>84.0</td></tr></tbody></table></div>"
      ]
     },
     "metadata": {
      "application/vnd.databricks.v1+output": {
       "addedWidgets": {},
       "aggData": [],
       "aggError": "",
       "aggOverflow": false,
       "aggSchema": [],
       "aggSeriesLimitReached": false,
       "aggType": "",
       "arguments": {},
       "columnCustomDisplayInfos": {},
       "data": [
        [
         "A",
         " sandwich",
         108.0
        ],
        [
         "A",
         " Chowmin",
         180.0
        ],
        [
         "A",
         " PIZZA",
         30.0
        ],
        [
         "B",
         " PIZZA",
         120.0
        ],
        [
         "B",
         " sandwich",
         72.0
        ],
        [
         "B",
         " Chowmin",
         180.0
        ],
        [
         "C",
         " Fish filet",
         108.0
        ],
        [
         "C",
         " sandwich",
         36.0
        ],
        [
         "C",
         " PIZZA",
         60.0
        ],
        [
         "D",
         " Pasta",
         48.0
        ],
        [
         "D",
         " sandwich",
         36.0
        ],
        [
         "E",
         " sandwich",
         36.0
        ],
        [
         "E",
         " Burger",
         84.0
        ]
       ],
       "datasetInfos": [],
       "dbfsResultPath": null,
       "isJsonSchema": true,
       "metadata": {},
       "overflow": false,
       "plotOptions": {
        "customPlotOptions": {},
        "displayType": "table",
        "pivotAggregation": null,
        "pivotColumns": null,
        "xColumns": null,
        "yColumns": null
       },
       "removedWidgets": [],
       "schema": [
        {
         "metadata": "{}",
         "name": "customer_id",
         "type": "\"string\""
        },
        {
         "metadata": "{}",
         "name": "Product_name",
         "type": "\"string\""
        },
        {
         "metadata": "{}",
         "name": "sum(Price)",
         "type": "\"double\""
        }
       ],
       "type": "table"
      }
     },
     "output_type": "display_data"
    },
    {
     "output_type": "display_data",
     "data": {
      "text/plain": [
       "Databricks visualization. Run in Databricks to view."
      ]
     },
     "metadata": {
      "application/vnd.databricks.v1.subcommand+json": {
       "baseErrorDetails": null,
       "bindings": {},
       "collapsed": false,
       "command": "%python\n__backend_agg_display_orig = display\n__backend_agg_dfs = []\ndef __backend_agg_display_new(df):\n    __backend_agg_df_modules = [\"pandas.core.frame\", \"databricks.koalas.frame\", \"pyspark.sql.dataframe\", \"pyspark.pandas.frame\", \"pyspark.sql.connect.dataframe\"]\n    if (type(df).__module__ in __backend_agg_df_modules and type(df).__name__ == 'DataFrame') or isinstance(df, list):\n        __backend_agg_dfs.append(df)\n\ndisplay = __backend_agg_display_new\n\ndef __backend_agg_user_code_fn():\n    import base64\n    exec(base64.standard_b64decode(\"YW1vdW50X3NwZW5kX29uX2Zvb2RfY2F0ID0gKHNhbGVzX2RmLmpvaW4obWVudV9kZiwgInByb2R1Y3RfaWQiKS5ncm91cEJ5KCJjdXN0b21lcl9pZCIsICJQcm9kdWN0X25hbWUiKS5hZ2coeyJQcmljZSI6ICJzdW0ifSkub3JkZXJCeSgiY3VzdG9tZXJfaWQiKSkKZGlzcGxheShhbW91bnRfc3BlbmRfb25fZm9vZF9jYXQp\").decode())\n\ntry:\n    # run user code\n    __backend_agg_user_code_fn()\n\n    #reset display function\n    display = __backend_agg_display_orig\n\n    if len(__backend_agg_dfs) > 0:\n        # create a temp view\n        if type(__backend_agg_dfs[0]).__module__ == \"databricks.koalas.frame\":\n            # koalas dataframe\n            __backend_agg_dfs[0].to_spark().createOrReplaceTempView(\"DatabricksViewec7fd37\")\n        elif type(__backend_agg_dfs[0]).__module__ == \"pandas.core.frame\" or isinstance(__backend_agg_dfs[0], list):\n            # pandas dataframe\n            spark.createDataFrame(__backend_agg_dfs[0]).createOrReplaceTempView(\"DatabricksViewec7fd37\")\n        else:\n            __backend_agg_dfs[0].createOrReplaceTempView(\"DatabricksViewec7fd37\")\n        #run backend agg\n        display(spark.sql(\"\"\"WITH q AS (select * from DatabricksViewec7fd37) SELECT `customer_id`,`Product_name`,SUM(`sum(Price)`) `column_82a4c1a56` FROM q GROUP BY `Product_name`,`customer_id`\"\"\"))\n    else:\n        displayHTML(\"dataframe no longer exists. If you're using dataframe.display(), use display(dataframe) instead.\")\n\n\nfinally:\n    spark.sql(\"drop view if exists DatabricksViewec7fd37\")\n    display = __backend_agg_display_orig\n    del __backend_agg_display_new\n    del __backend_agg_display_orig\n    del __backend_agg_dfs\n    del __backend_agg_user_code_fn\n\n",
       "commandTitle": "Visualization 1",
       "commandType": "auto",
       "commandVersion": 0,
       "commentThread": [],
       "commentsVisible": false,
       "contentSha256Hex": null,
       "customPlotOptions": {
        "redashChart": [
         {
          "key": "type",
          "value": "CHART"
         },
         {
          "key": "options",
          "value": {
           "alignYAxesAtZero": true,
           "coefficient": 1,
           "columnConfigurationMap": {
            "series": {
             "column": "Product_name",
             "id": "column_82a4c1a55"
            },
            "x": {
             "column": "customer_id",
             "id": "column_82a4c1a54"
            },
            "y": [
             {
              "column": "sum(Price)",
              "id": "column_82a4c1a56",
              "transform": "SUM"
             }
            ]
           },
           "dateTimeFormat": "DD/MM/YYYY HH:mm",
           "direction": {
            "type": "counterclockwise"
           },
           "error_y": {
            "type": "data",
            "visible": true
           },
           "globalSeriesType": "column",
           "legend": {
            "traceorder": "normal"
           },
           "missingValuesAsZero": true,
           "numberFormat": "0,0.[00000]",
           "percentFormat": "0[.]00%",
           "series": {
            "error_y": {
             "type": "data",
             "visible": true
            },
            "stacking": null
           },
           "seriesOptions": {
            "column_82a4c1a56": {
             "name": "sum(Price)",
             "type": "column",
             "yAxis": 0
            }
           },
           "showDataLabels": false,
           "sizemode": "diameter",
           "sortX": true,
           "sortY": true,
           "swappedAxes": false,
           "textFormat": "",
           "useAggregationsUi": true,
           "valuesOptions": {},
           "version": 2,
           "xAxis": {
            "labels": {
             "enabled": true
            },
            "type": "-"
           },
           "yAxis": [
            {
             "type": "-"
            },
            {
             "opposite": true,
             "type": "-"
            }
           ]
          }
         }
        ]
       },
       "datasetPreviewNameToCmdIdMap": {},
       "diffDeletes": [],
       "diffInserts": [],
       "displayType": "redashChart",
       "error": null,
       "errorDetails": null,
       "errorSummary": null,
       "errorTraceType": null,
       "finishTime": 0,
       "globalVars": {},
       "guid": "",
       "height": "auto",
       "hideCommandCode": false,
       "hideCommandResult": false,
       "iPythonMetadata": null,
       "inputWidgets": {},
       "isLockedInExamMode": false,
       "latestUser": "a user",
       "latestUserId": null,
       "listResultMetadata": null,
       "metadata": {
        "byteLimit": 2048000,
        "rowLimit": 10000
       },
       "nuid": "a7130631-bcef-444f-a879-e9ba5a84febc",
       "origId": 0,
       "parentHierarchy": [],
       "pivotAggregation": null,
       "pivotColumns": null,
       "position": 6.0,
       "resultDbfsErrorMessage": null,
       "resultDbfsStatus": "INLINED_IN_TREE",
       "results": null,
       "showCommandTitle": false,
       "startTime": 0,
       "state": "finished",
       "streamStates": {},
       "subcommandOptions": {
        "queryPlan": {
         "groups": [
          {
           "column": "customer_id",
           "type": "column"
          },
          {
           "column": "Product_name",
           "type": "column"
          }
         ],
         "selects": [
          {
           "column": "customer_id",
           "type": "column"
          },
          {
           "column": "Product_name",
           "type": "column"
          },
          {
           "alias": "column_82a4c1a56",
           "args": [
            {
             "column": "sum(Price)",
             "type": "column"
            }
           ],
           "function": "SUM",
           "type": "function"
          }
         ]
        }
       },
       "submitTime": 0,
       "subtype": "tableResultSubCmd.visualization",
       "tableResultIndex": 0,
       "useConsistentColors": false,
       "version": "CommandV1",
       "width": "auto",
       "workflows": [],
       "xColumns": null,
       "yColumns": null
      }
     },
     "output_type": "display_data"
    }
   ],
   "source": [
    "amount_spend_on_food_cat = (sales_df.join(menu_df, \"product_id\").groupBy(\"customer_id\", \"Product_name\").agg({\"Price\": \"sum\"}).orderBy(\"customer_id\"))\n",
    "display(amount_spend_on_food_cat)"
   ]
  },
  {
   "cell_type": "code",
   "execution_count": 0,
   "metadata": {
    "application/vnd.databricks.v1+cell": {
     "cellMetadata": {
      "byteLimit": 2048000,
      "rowLimit": 10000
     },
     "inputWidgets": {},
     "nuid": "ead5b3d1-f0cb-4483-9998-47b473e6b8ea",
     "showTitle": true,
     "title": "Total amount of sales in each months"
    }
   },
   "outputs": [
    {
     "output_type": "display_data",
     "data": {
      "text/html": [
       "<style scoped>\n",
       "  .table-result-container {\n",
       "    max-height: 300px;\n",
       "    overflow: auto;\n",
       "  }\n",
       "  table, th, td {\n",
       "    border: 1px solid black;\n",
       "    border-collapse: collapse;\n",
       "  }\n",
       "  th, td {\n",
       "    padding: 5px;\n",
       "  }\n",
       "  th {\n",
       "    text-align: left;\n",
       "  }\n",
       "</style><div class='table-result-container'><table class='table-result'><thead style='background-color: white'><tr><th>Order_month</th><th>sum(Price)</th></tr></thead><tbody><tr><td>1</td><td>236.0</td></tr><tr><td>2</td><td>195.0</td></tr><tr><td>3</td><td>65.0</td></tr><tr><td>5</td><td>236.0</td></tr><tr><td>6</td><td>236.0</td></tr><tr><td>7</td><td>65.0</td></tr><tr><td>11</td><td>65.0</td></tr></tbody></table></div>"
      ]
     },
     "metadata": {
      "application/vnd.databricks.v1+output": {
       "addedWidgets": {},
       "aggData": [],
       "aggError": "",
       "aggOverflow": false,
       "aggSchema": [],
       "aggSeriesLimitReached": false,
       "aggType": "",
       "arguments": {},
       "columnCustomDisplayInfos": {},
       "data": [
        [
         1,
         236.0
        ],
        [
         2,
         195.0
        ],
        [
         3,
         65.0
        ],
        [
         5,
         236.0
        ],
        [
         6,
         236.0
        ],
        [
         7,
         65.0
        ],
        [
         11,
         65.0
        ]
       ],
       "datasetInfos": [],
       "dbfsResultPath": null,
       "isJsonSchema": true,
       "metadata": {},
       "overflow": false,
       "plotOptions": {
        "customPlotOptions": {},
        "displayType": "table",
        "pivotAggregation": null,
        "pivotColumns": null,
        "xColumns": null,
        "yColumns": null
       },
       "removedWidgets": [],
       "schema": [
        {
         "metadata": "{}",
         "name": "Order_month",
         "type": "\"integer\""
        },
        {
         "metadata": "{}",
         "name": "sum(Price)",
         "type": "\"double\""
        }
       ],
       "type": "table"
      }
     },
     "output_type": "display_data"
    },
    {
     "output_type": "display_data",
     "data": {
      "text/plain": [
       "Databricks visualization. Run in Databricks to view."
      ]
     },
     "metadata": {
      "application/vnd.databricks.v1.subcommand+json": {
       "baseErrorDetails": null,
       "bindings": {},
       "collapsed": false,
       "command": "%python\n__backend_agg_display_orig = display\n__backend_agg_dfs = []\ndef __backend_agg_display_new(df):\n    __backend_agg_df_modules = [\"pandas.core.frame\", \"databricks.koalas.frame\", \"pyspark.sql.dataframe\", \"pyspark.pandas.frame\", \"pyspark.sql.connect.dataframe\"]\n    if (type(df).__module__ in __backend_agg_df_modules and type(df).__name__ == 'DataFrame') or isinstance(df, list):\n        __backend_agg_dfs.append(df)\n\ndisplay = __backend_agg_display_new\n\ndef __backend_agg_user_code_fn():\n    import base64\n    exec(base64.standard_b64decode(\"c2FsZV9lYWNoX21vbnRoID0gKHNhbGVzX2RmLmpvaW4obWVudV9kZiwgInByb2R1Y3RfaWQiKS5ncm91cEJ5KCJPcmRlcl9tb250aCIpLmFnZyh7IlByaWNlIjogInN1bSJ9KS5vcmRlckJ5KCJPcmRlcl9tb250aCIpKQpkaXNwbGF5KHNhbGVfZWFjaF9tb250aCk=\").decode())\n\ntry:\n    # run user code\n    __backend_agg_user_code_fn()\n\n    #reset display function\n    display = __backend_agg_display_orig\n\n    if len(__backend_agg_dfs) > 0:\n        # create a temp view\n        if type(__backend_agg_dfs[0]).__module__ == \"databricks.koalas.frame\":\n            # koalas dataframe\n            __backend_agg_dfs[0].to_spark().createOrReplaceTempView(\"DatabricksViewb0311c9\")\n        elif type(__backend_agg_dfs[0]).__module__ == \"pandas.core.frame\" or isinstance(__backend_agg_dfs[0], list):\n            # pandas dataframe\n            spark.createDataFrame(__backend_agg_dfs[0]).createOrReplaceTempView(\"DatabricksViewb0311c9\")\n        else:\n            __backend_agg_dfs[0].createOrReplaceTempView(\"DatabricksViewb0311c9\")\n        #run backend agg\n        display(spark.sql(\"\"\"WITH q AS (select * from DatabricksViewb0311c9) SELECT `Order_month`,SUM(`sum(Price)`) `column_82a4c1a512` FROM q GROUP BY `Order_month`\"\"\"))\n    else:\n        displayHTML(\"dataframe no longer exists. If you're using dataframe.display(), use display(dataframe) instead.\")\n\n\nfinally:\n    spark.sql(\"drop view if exists DatabricksViewb0311c9\")\n    display = __backend_agg_display_orig\n    del __backend_agg_display_new\n    del __backend_agg_display_orig\n    del __backend_agg_dfs\n    del __backend_agg_user_code_fn\n\n",
       "commandTitle": "Visualization 1",
       "commandType": "auto",
       "commandVersion": 0,
       "commentThread": [],
       "commentsVisible": false,
       "contentSha256Hex": null,
       "customPlotOptions": {
        "redashChart": [
         {
          "key": "type",
          "value": "CHART"
         },
         {
          "key": "options",
          "value": {
           "alignYAxesAtZero": true,
           "coefficient": 1,
           "columnConfigurationMap": {
            "x": {
             "column": "Order_month",
             "id": "column_82a4c1a511"
            },
            "y": [
             {
              "column": "sum(Price)",
              "id": "column_82a4c1a512",
              "transform": "SUM"
             }
            ]
           },
           "dateTimeFormat": "DD/MM/YYYY HH:mm",
           "direction": {
            "type": "counterclockwise"
           },
           "error_y": {
            "type": "data",
            "visible": true
           },
           "globalSeriesType": "column",
           "isAggregationOn": true,
           "legend": {
            "traceorder": "normal"
           },
           "missingValuesAsZero": true,
           "numberFormat": "0,0.[00000]",
           "percentFormat": "0[.]00%",
           "series": {
            "error_y": {
             "type": "data",
             "visible": true
            },
            "stacking": null
           },
           "seriesOptions": {
            "column_82a4c1a512": {
             "color": "#A58AFF",
             "name": "sum(Price)",
             "type": "column",
             "yAxis": 0
            }
           },
           "showDataLabels": true,
           "sizemode": "diameter",
           "sortX": true,
           "sortY": true,
           "swappedAxes": false,
           "textFormat": "",
           "useAggregationsUi": true,
           "valuesOptions": {},
           "version": 2,
           "xAxis": {
            "labels": {
             "enabled": true
            },
            "type": "-"
           },
           "yAxis": [
            {
             "title": {
              "text": "Total amount(euros)"
             },
             "type": "-"
            },
            {
             "opposite": true,
             "type": "-"
            }
           ]
          }
         }
        ]
       },
       "datasetPreviewNameToCmdIdMap": {},
       "diffDeletes": [],
       "diffInserts": [],
       "displayType": "redashChart",
       "error": null,
       "errorDetails": null,
       "errorSummary": null,
       "errorTraceType": null,
       "finishTime": 0,
       "globalVars": {},
       "guid": "",
       "height": "auto",
       "hideCommandCode": false,
       "hideCommandResult": false,
       "iPythonMetadata": null,
       "inputWidgets": {},
       "isLockedInExamMode": false,
       "latestUser": "a user",
       "latestUserId": null,
       "listResultMetadata": null,
       "metadata": {
        "byteLimit": 2048000,
        "rowLimit": 10000
       },
       "nuid": "89d3c91e-827d-47c4-8965-0e9bebf1f357",
       "origId": 0,
       "parentHierarchy": [],
       "pivotAggregation": null,
       "pivotColumns": null,
       "position": 7.0,
       "resultDbfsErrorMessage": null,
       "resultDbfsStatus": "INLINED_IN_TREE",
       "results": null,
       "showCommandTitle": false,
       "startTime": 0,
       "state": "finished",
       "streamStates": {},
       "subcommandOptions": {
        "queryPlan": {
         "groups": [
          {
           "column": "Order_month",
           "type": "column"
          }
         ],
         "selects": [
          {
           "column": "Order_month",
           "type": "column"
          },
          {
           "alias": "column_82a4c1a512",
           "args": [
            {
             "column": "sum(Price)",
             "type": "column"
            }
           ],
           "function": "SUM",
           "type": "function"
          }
         ]
        }
       },
       "submitTime": 0,
       "subtype": "tableResultSubCmd.visualization",
       "tableResultIndex": 0,
       "useConsistentColors": false,
       "version": "CommandV1",
       "width": "auto",
       "workflows": [],
       "xColumns": null,
       "yColumns": null
      }
     },
     "output_type": "display_data"
    }
   ],
   "source": [
    "sale_each_month = (sales_df.join(menu_df, \"product_id\").groupBy(\"Order_month\").agg({\"Price\": \"sum\"}).orderBy(\"Order_month\"))\n",
    "display(sale_each_month)"
   ]
  },
  {
   "cell_type": "code",
   "execution_count": 0,
   "metadata": {
    "application/vnd.databricks.v1+cell": {
     "cellMetadata": {
      "byteLimit": 2048000,
      "rowLimit": 10000
     },
     "inputWidgets": {},
     "nuid": "0435ae99-aa86-45a6-99df-e06ccc479ea1",
     "showTitle": true,
     "title": "Yearly sales"
    }
   },
   "outputs": [
    {
     "output_type": "display_data",
     "data": {
      "text/html": [
       "<style scoped>\n",
       "  .table-result-container {\n",
       "    max-height: 300px;\n",
       "    overflow: auto;\n",
       "  }\n",
       "  table, th, td {\n",
       "    border: 1px solid black;\n",
       "    border-collapse: collapse;\n",
       "  }\n",
       "  th, td {\n",
       "    padding: 5px;\n",
       "  }\n",
       "  th {\n",
       "    text-align: left;\n",
       "  }\n",
       "</style><div class='table-result-container'><table class='table-result'><thead style='background-color: white'><tr><th>Order_year</th><th>sum(Price)</th></tr></thead><tbody><tr><td>2022</td><td>351.0</td></tr><tr><td>2023</td><td>747.0</td></tr></tbody></table></div>"
      ]
     },
     "metadata": {
      "application/vnd.databricks.v1+output": {
       "addedWidgets": {},
       "aggData": [],
       "aggError": "",
       "aggOverflow": false,
       "aggSchema": [],
       "aggSeriesLimitReached": false,
       "aggType": "",
       "arguments": {},
       "columnCustomDisplayInfos": {},
       "data": [
        [
         2022,
         351.0
        ],
        [
         2023,
         747.0
        ]
       ],
       "datasetInfos": [],
       "dbfsResultPath": null,
       "isJsonSchema": true,
       "metadata": {},
       "overflow": false,
       "plotOptions": {
        "customPlotOptions": {},
        "displayType": "table",
        "pivotAggregation": null,
        "pivotColumns": null,
        "xColumns": null,
        "yColumns": null
       },
       "removedWidgets": [],
       "schema": [
        {
         "metadata": "{}",
         "name": "Order_year",
         "type": "\"integer\""
        },
        {
         "metadata": "{}",
         "name": "sum(Price)",
         "type": "\"double\""
        }
       ],
       "type": "table"
      }
     },
     "output_type": "display_data"
    },
    {
     "output_type": "display_data",
     "data": {
      "text/plain": [
       "Databricks visualization. Run in Databricks to view."
      ]
     },
     "metadata": {
      "application/vnd.databricks.v1.subcommand+json": {
       "baseErrorDetails": null,
       "bindings": {},
       "collapsed": false,
       "command": "%python\n__backend_agg_display_orig = display\n__backend_agg_dfs = []\ndef __backend_agg_display_new(df):\n    __backend_agg_df_modules = [\"pandas.core.frame\", \"databricks.koalas.frame\", \"pyspark.sql.dataframe\", \"pyspark.pandas.frame\", \"pyspark.sql.connect.dataframe\"]\n    if (type(df).__module__ in __backend_agg_df_modules and type(df).__name__ == 'DataFrame') or isinstance(df, list):\n        __backend_agg_dfs.append(df)\n\ndisplay = __backend_agg_display_new\n\ndef __backend_agg_user_code_fn():\n    import base64\n    exec(base64.standard_b64decode(\"eWVhcmx5X3NhbGVzID0gKHNhbGVzX2RmLmpvaW4obWVudV9kZiwgInByb2R1Y3RfaWQiKS5ncm91cEJ5KCJPcmRlcl95ZWFyIikuYWdnKHsiUHJpY2UiOiAic3VtIn0pLm9yZGVyQnkoIk9yZGVyX3llYXIiKSkKZGlzcGxheSh5ZWFybHlfc2FsZXMp\").decode())\n\ntry:\n    # run user code\n    __backend_agg_user_code_fn()\n\n    #reset display function\n    display = __backend_agg_display_orig\n\n    if len(__backend_agg_dfs) > 0:\n        # create a temp view\n        if type(__backend_agg_dfs[0]).__module__ == \"databricks.koalas.frame\":\n            # koalas dataframe\n            __backend_agg_dfs[0].to_spark().createOrReplaceTempView(\"DatabricksViewef8cee7\")\n        elif type(__backend_agg_dfs[0]).__module__ == \"pandas.core.frame\" or isinstance(__backend_agg_dfs[0], list):\n            # pandas dataframe\n            spark.createDataFrame(__backend_agg_dfs[0]).createOrReplaceTempView(\"DatabricksViewef8cee7\")\n        else:\n            __backend_agg_dfs[0].createOrReplaceTempView(\"DatabricksViewef8cee7\")\n        #run backend agg\n        display(spark.sql(\"\"\"WITH q AS (select * from DatabricksViewef8cee7) SELECT `Order_year`,SUM(`sum(Price)`) `column_82a4c1a519` FROM q GROUP BY `Order_year`\"\"\"))\n    else:\n        displayHTML(\"dataframe no longer exists. If you're using dataframe.display(), use display(dataframe) instead.\")\n\n\nfinally:\n    spark.sql(\"drop view if exists DatabricksViewef8cee7\")\n    display = __backend_agg_display_orig\n    del __backend_agg_display_new\n    del __backend_agg_display_orig\n    del __backend_agg_dfs\n    del __backend_agg_user_code_fn\n\n",
       "commandTitle": "Visualization 1",
       "commandType": "auto",
       "commandVersion": 0,
       "commentThread": [],
       "commentsVisible": false,
       "contentSha256Hex": null,
       "customPlotOptions": {
        "redashChart": [
         {
          "key": "type",
          "value": "CHART"
         },
         {
          "key": "options",
          "value": {
           "alignYAxesAtZero": true,
           "coefficient": 1,
           "columnConfigurationMap": {
            "x": {
             "column": "Order_year",
             "id": "column_82a4c1a518"
            },
            "y": [
             {
              "column": "sum(Price)",
              "id": "column_82a4c1a519",
              "transform": "SUM"
             }
            ]
           },
           "dateTimeFormat": "DD/MM/YYYY HH:mm",
           "direction": {
            "type": "counterclockwise"
           },
           "error_y": {
            "type": "data",
            "visible": true
           },
           "globalSeriesType": "column",
           "isAggregationOn": true,
           "legend": {
            "traceorder": "normal"
           },
           "missingValuesAsZero": true,
           "numberFormat": "0,0.[00000]",
           "percentFormat": "0[.]00%",
           "series": {
            "error_y": {
             "type": "data",
             "visible": true
            },
            "stacking": null
           },
           "seriesOptions": {
            "column_82a4c1a519": {
             "color": "#049235",
             "name": "sum(Price)",
             "type": "column",
             "yAxis": 0
            }
           },
           "showDataLabels": true,
           "sizemode": "diameter",
           "sortX": true,
           "sortY": true,
           "swappedAxes": false,
           "textFormat": "",
           "useAggregationsUi": true,
           "valuesOptions": {},
           "version": 2,
           "xAxis": {
            "labels": {
             "enabled": true
            },
            "type": "-"
           },
           "yAxis": [
            {
             "type": "-"
            },
            {
             "opposite": true,
             "type": "-"
            }
           ]
          }
         }
        ]
       },
       "datasetPreviewNameToCmdIdMap": {},
       "diffDeletes": [],
       "diffInserts": [],
       "displayType": "redashChart",
       "error": null,
       "errorDetails": null,
       "errorSummary": null,
       "errorTraceType": null,
       "finishTime": 0,
       "globalVars": {},
       "guid": "",
       "height": "auto",
       "hideCommandCode": false,
       "hideCommandResult": false,
       "iPythonMetadata": null,
       "inputWidgets": {},
       "isLockedInExamMode": false,
       "latestUser": "a user",
       "latestUserId": null,
       "listResultMetadata": null,
       "metadata": {
        "byteLimit": 2048000,
        "rowLimit": 10000
       },
       "nuid": "5d04908d-65bb-422d-beb0-4e26e878e2b9",
       "origId": 0,
       "parentHierarchy": [],
       "pivotAggregation": null,
       "pivotColumns": null,
       "position": 8.0,
       "resultDbfsErrorMessage": null,
       "resultDbfsStatus": "INLINED_IN_TREE",
       "results": null,
       "showCommandTitle": false,
       "startTime": 0,
       "state": "finished",
       "streamStates": {},
       "subcommandOptions": {
        "queryPlan": {
         "groups": [
          {
           "column": "Order_year",
           "type": "column"
          }
         ],
         "selects": [
          {
           "column": "Order_year",
           "type": "column"
          },
          {
           "alias": "column_82a4c1a519",
           "args": [
            {
             "column": "sum(Price)",
             "type": "column"
            }
           ],
           "function": "SUM",
           "type": "function"
          }
         ]
        }
       },
       "submitTime": 0,
       "subtype": "tableResultSubCmd.visualization",
       "tableResultIndex": 0,
       "useConsistentColors": false,
       "version": "CommandV1",
       "width": "auto",
       "workflows": [],
       "xColumns": null,
       "yColumns": null
      }
     },
     "output_type": "display_data"
    }
   ],
   "source": [
    "yearly_sales = (sales_df.join(menu_df, \"product_id\").groupBy(\"Order_year\").agg({\"Price\": \"sum\"}).orderBy(\"Order_year\"))\n",
    "display(yearly_sales)"
   ]
  },
  {
   "cell_type": "code",
   "execution_count": 0,
   "metadata": {
    "application/vnd.databricks.v1+cell": {
     "cellMetadata": {
      "byteLimit": 2048000,
      "rowLimit": 10000
     },
     "inputWidgets": {},
     "nuid": "67b97f62-2b07-40ab-9f9f-709fdb1b8c02",
     "showTitle": true,
     "title": "Total number of order by each category"
    }
   },
   "outputs": [
    {
     "output_type": "display_data",
     "data": {
      "text/html": [
       "<style scoped>\n",
       "  .table-result-container {\n",
       "    max-height: 300px;\n",
       "    overflow: auto;\n",
       "  }\n",
       "  table, th, td {\n",
       "    border: 1px solid black;\n",
       "    border-collapse: collapse;\n",
       "  }\n",
       "  th, td {\n",
       "    padding: 5px;\n",
       "  }\n",
       "  th {\n",
       "    text-align: left;\n",
       "  }\n",
       "</style><div class='table-result-container'><table class='table-result'><thead style='background-color: white'><tr><th>product_id</th><th>Product_name</th><th>Product count</th></tr></thead><tbody><tr><td>6</td><td> Fish filet</td><td>6</td></tr><tr><td>5</td><td> Pasta</td><td>6</td></tr><tr><td>4</td><td> Burger</td><td>12</td></tr><tr><td>1</td><td> PIZZA</td><td>21</td></tr><tr><td>2</td><td> Chowmin</td><td>24</td></tr><tr><td>3</td><td> sandwich</td><td>48</td></tr></tbody></table></div>"
      ]
     },
     "metadata": {
      "application/vnd.databricks.v1+output": {
       "addedWidgets": {},
       "aggData": [],
       "aggError": "",
       "aggOverflow": false,
       "aggSchema": [],
       "aggSeriesLimitReached": false,
       "aggType": "",
       "arguments": {},
       "columnCustomDisplayInfos": {},
       "data": [
        [
         6,
         " Fish filet",
         6
        ],
        [
         5,
         " Pasta",
         6
        ],
        [
         4,
         " Burger",
         12
        ],
        [
         1,
         " PIZZA",
         21
        ],
        [
         2,
         " Chowmin",
         24
        ],
        [
         3,
         " sandwich",
         48
        ]
       ],
       "datasetInfos": [],
       "dbfsResultPath": null,
       "isJsonSchema": true,
       "metadata": {},
       "overflow": false,
       "plotOptions": {
        "customPlotOptions": {},
        "displayType": "table",
        "pivotAggregation": null,
        "pivotColumns": null,
        "xColumns": null,
        "yColumns": null
       },
       "removedWidgets": [],
       "schema": [
        {
         "metadata": "{}",
         "name": "product_id",
         "type": "\"integer\""
        },
        {
         "metadata": "{}",
         "name": "Product_name",
         "type": "\"string\""
        },
        {
         "metadata": "{}",
         "name": "Product count",
         "type": "\"long\""
        }
       ],
       "type": "table"
      }
     },
     "output_type": "display_data"
    },
    {
     "output_type": "display_data",
     "data": {
      "text/plain": [
       "Databricks visualization. Run in Databricks to view."
      ]
     },
     "metadata": {
      "application/vnd.databricks.v1.subcommand+json": {
       "baseErrorDetails": null,
       "bindings": {},
       "collapsed": false,
       "command": "from pyspark.sql.functions import count\n\norder_each_category = (sales_df.join(menu_df, \"product_id\").groupBy(\"product_id\",\"Product_name\").agg(count(\"Product_id\").alias(\"Product count\"))\n                       .orderBy(\"Product count\", descending=0)\n                      )\ndisplay(order_each_category)",
       "commandTitle": "Visualization 1",
       "commandType": "auto",
       "commandVersion": 0,
       "commentThread": [],
       "commentsVisible": false,
       "contentSha256Hex": null,
       "customPlotOptions": {
        "redashChart": [
         {
          "key": "type",
          "value": "FUNNEL"
         },
         {
          "key": "options",
          "value": {
           "autoSort": true,
           "itemsLimit": 100,
           "numberFormat": "0,0.[00]",
           "percentFormat": "0[.]00%",
           "percentValuesRange": {
            "max": 1000,
            "min": 0.01
           },
           "sortKeyCol": {
            "colName": "Product count",
            "reverse": true
           },
           "stepCol": {
            "colName": "Product_name",
            "displayAs": "Steps"
           },
           "valueCol": {
            "colName": "Product count",
            "displayAs": "Value"
           }
          }
         }
        ]
       },
       "datasetPreviewNameToCmdIdMap": {},
       "diffDeletes": [],
       "diffInserts": [],
       "displayType": "redashChart",
       "error": null,
       "errorDetails": null,
       "errorSummary": null,
       "errorTraceType": null,
       "finishTime": 0,
       "globalVars": {},
       "guid": "",
       "height": "auto",
       "hideCommandCode": false,
       "hideCommandResult": false,
       "iPythonMetadata": null,
       "inputWidgets": {},
       "isLockedInExamMode": false,
       "latestUser": "a user",
       "latestUserId": null,
       "listResultMetadata": null,
       "metadata": {
        "byteLimit": 2048000,
        "rowLimit": 10000
       },
       "nuid": "4a355e10-4bb2-4328-b1a7-4ca84533c316",
       "origId": 0,
       "parentHierarchy": [],
       "pivotAggregation": null,
       "pivotColumns": null,
       "position": 9.0,
       "resultDbfsErrorMessage": null,
       "resultDbfsStatus": "INLINED_IN_TREE",
       "results": null,
       "showCommandTitle": false,
       "startTime": 0,
       "state": "finished",
       "streamStates": {},
       "subcommandOptions": {},
       "submitTime": 0,
       "subtype": "tableResultSubCmd.visualization",
       "tableResultIndex": 0,
       "useConsistentColors": false,
       "version": "CommandV1",
       "width": "auto",
       "workflows": [],
       "xColumns": null,
       "yColumns": null
      }
     },
     "output_type": "display_data"
    }
   ],
   "source": [
    "from pyspark.sql.functions import count\n",
    "\n",
    "order_each_category = (sales_df.join(menu_df, \"product_id\").groupBy(\"product_id\",\"Product_name\").agg(count(\"Product_id\").alias(\"Product count\"))\n",
    "                       .orderBy(\"Product count\", descending=0)\n",
    "                       .drop(\"product_id\"))\n",
    "display(order_each_category)"
   ]
  },
  {
   "cell_type": "code",
   "execution_count": 0,
   "metadata": {
    "application/vnd.databricks.v1+cell": {
     "cellMetadata": {
      "byteLimit": 2048000,
      "rowLimit": 10000
     },
     "inputWidgets": {},
     "nuid": "dee2b906-428d-45e1-afea-545dc530a9c3",
     "showTitle": true,
     "title": "Top 5 ordered items"
    }
   },
   "outputs": [
    {
     "output_type": "display_data",
     "data": {
      "text/html": [
       "<style scoped>\n",
       "  .table-result-container {\n",
       "    max-height: 300px;\n",
       "    overflow: auto;\n",
       "  }\n",
       "  table, th, td {\n",
       "    border: 1px solid black;\n",
       "    border-collapse: collapse;\n",
       "  }\n",
       "  th, td {\n",
       "    padding: 5px;\n",
       "  }\n",
       "  th {\n",
       "    text-align: left;\n",
       "  }\n",
       "</style><div class='table-result-container'><table class='table-result'><thead style='background-color: white'><tr><th>Product_name</th><th>Total ordered number</th></tr></thead><tbody><tr><td> sandwich</td><td>48</td></tr><tr><td> Chowmin</td><td>24</td></tr><tr><td> PIZZA</td><td>21</td></tr><tr><td> Burger</td><td>12</td></tr><tr><td> Fish filet</td><td>6</td></tr></tbody></table></div>"
      ]
     },
     "metadata": {
      "application/vnd.databricks.v1+output": {
       "addedWidgets": {},
       "aggData": [],
       "aggError": "",
       "aggOverflow": false,
       "aggSchema": [],
       "aggSeriesLimitReached": false,
       "aggType": "",
       "arguments": {},
       "columnCustomDisplayInfos": {},
       "data": [
        [
         " sandwich",
         48
        ],
        [
         " Chowmin",
         24
        ],
        [
         " PIZZA",
         21
        ],
        [
         " Burger",
         12
        ],
        [
         " Fish filet",
         6
        ]
       ],
       "datasetInfos": [],
       "dbfsResultPath": null,
       "isJsonSchema": true,
       "metadata": {},
       "overflow": false,
       "plotOptions": {
        "customPlotOptions": {},
        "displayType": "table",
        "pivotAggregation": null,
        "pivotColumns": null,
        "xColumns": null,
        "yColumns": null
       },
       "removedWidgets": [],
       "schema": [
        {
         "metadata": "{}",
         "name": "Product_name",
         "type": "\"string\""
        },
        {
         "metadata": "{}",
         "name": "Total ordered number",
         "type": "\"long\""
        }
       ],
       "type": "table"
      }
     },
     "output_type": "display_data"
    }
   ],
   "source": [
    "top_ordered1 = (sales_df.join(menu_df, \"product_id\").groupBy(\"product_id\", \"Product_name\").agg(count(\"Product_id\").alias(\"Total ordered number\"))\n",
    "                       .orderBy(\"Total ordered number\", ascending=0).limit(5)\n",
    "                       .drop(\"product_id\"))\n",
    "display(top_ordered1)"
   ]
  },
  {
   "cell_type": "code",
   "execution_count": 0,
   "metadata": {
    "application/vnd.databricks.v1+cell": {
     "cellMetadata": {
      "byteLimit": 2048000,
      "rowLimit": 10000
     },
     "inputWidgets": {},
     "nuid": "97e62aae-e768-46b6-914f-cece9e488c56",
     "showTitle": true,
     "title": "Most ordered"
    }
   },
   "outputs": [
    {
     "output_type": "display_data",
     "data": {
      "text/html": [
       "<style scoped>\n",
       "  .table-result-container {\n",
       "    max-height: 300px;\n",
       "    overflow: auto;\n",
       "  }\n",
       "  table, th, td {\n",
       "    border: 1px solid black;\n",
       "    border-collapse: collapse;\n",
       "  }\n",
       "  th, td {\n",
       "    padding: 5px;\n",
       "  }\n",
       "  th {\n",
       "    text-align: left;\n",
       "  }\n",
       "</style><div class='table-result-container'><table class='table-result'><thead style='background-color: white'><tr><th>Product_name</th><th>Most ordered</th></tr></thead><tbody><tr><td> sandwich</td><td>48</td></tr></tbody></table></div>"
      ]
     },
     "metadata": {
      "application/vnd.databricks.v1+output": {
       "addedWidgets": {},
       "aggData": [],
       "aggError": "",
       "aggOverflow": false,
       "aggSchema": [],
       "aggSeriesLimitReached": false,
       "aggType": "",
       "arguments": {},
       "columnCustomDisplayInfos": {},
       "data": [
        [
         " sandwich",
         48
        ]
       ],
       "datasetInfos": [],
       "dbfsResultPath": null,
       "isJsonSchema": true,
       "metadata": {},
       "overflow": false,
       "plotOptions": {
        "customPlotOptions": {},
        "displayType": "table",
        "pivotAggregation": null,
        "pivotColumns": null,
        "xColumns": null,
        "yColumns": null
       },
       "removedWidgets": [],
       "schema": [
        {
         "metadata": "{}",
         "name": "Product_name",
         "type": "\"string\""
        },
        {
         "metadata": "{}",
         "name": "Most ordered",
         "type": "\"long\""
        }
       ],
       "type": "table"
      }
     },
     "output_type": "display_data"
    },
    {
     "output_type": "display_data",
     "data": {
      "text/plain": [
       "Databricks visualization. Run in Databricks to view."
      ]
     },
     "metadata": {
      "application/vnd.databricks.v1.subcommand+json": {
       "baseErrorDetails": null,
       "bindings": {},
       "collapsed": false,
       "command": "top_ordered1 = (sales_df.join(menu_df, \"product_id\").groupBy(\"product_id\", \"Product_name\").agg(count(\"Product_id\").alias(\"Most ordered\"))\n                       .orderBy(\"Most ordered\", ascending=0).limit(1)\n                       .drop(\"product_id\"))\ndisplay(top_ordered1)",
       "commandTitle": "Visualization 1",
       "commandType": "auto",
       "commandVersion": 0,
       "commentThread": [],
       "commentsVisible": false,
       "contentSha256Hex": null,
       "customPlotOptions": {
        "redashChart": [
         {
          "key": "type",
          "value": "COUNTER"
         },
         {
          "key": "options",
          "value": {
           "countRow": false,
           "counterColName": "Most ordered",
           "counterLabel": "",
           "rowNumber": 1,
           "stringDecChar": ".",
           "stringDecimal": 0,
           "stringThouSep": ",",
           "targetColName": "Product_name",
           "targetRowNumber": 1,
           "tooltipFormat": "0,0.000"
          }
         }
        ]
       },
       "datasetPreviewNameToCmdIdMap": {},
       "diffDeletes": [],
       "diffInserts": [],
       "displayType": "redashChart",
       "error": null,
       "errorDetails": null,
       "errorSummary": null,
       "errorTraceType": null,
       "finishTime": 0,
       "globalVars": {},
       "guid": "",
       "height": "auto",
       "hideCommandCode": false,
       "hideCommandResult": false,
       "iPythonMetadata": null,
       "inputWidgets": {},
       "isLockedInExamMode": false,
       "latestUser": "a user",
       "latestUserId": null,
       "listResultMetadata": null,
       "metadata": {},
       "nuid": "d68db30b-e72b-4006-97b1-916ecf8abfac",
       "origId": 0,
       "parentHierarchy": [],
       "pivotAggregation": null,
       "pivotColumns": null,
       "position": 11.0,
       "resultDbfsErrorMessage": null,
       "resultDbfsStatus": "INLINED_IN_TREE",
       "results": null,
       "showCommandTitle": false,
       "startTime": 0,
       "state": "input",
       "streamStates": {},
       "subcommandOptions": {},
       "submitTime": 0,
       "subtype": "tableResultSubCmd.visualization",
       "tableResultIndex": 0,
       "useConsistentColors": false,
       "version": "CommandV1",
       "width": "auto",
       "workflows": [],
       "xColumns": null,
       "yColumns": null
      }
     },
     "output_type": "display_data"
    }
   ],
   "source": [
    "top_ordered1 = (sales_df.join(menu_df, \"product_id\").groupBy(\"product_id\", \"Product_name\").agg(count(\"Product_id\").alias(\"Most ordered\"))\n",
    "                       .orderBy(\"Most ordered\", ascending=0).limit(1)\n",
    "                       .drop(\"product_id\"))\n",
    "display(top_ordered1)"
   ]
  },
  {
   "cell_type": "code",
   "execution_count": 0,
   "metadata": {
    "application/vnd.databricks.v1+cell": {
     "cellMetadata": {
      "byteLimit": 2048000,
      "rowLimit": 10000
     },
     "inputWidgets": {},
     "nuid": "ed2cf7bc-9a9b-4dbf-a418-7e41836ccfee",
     "showTitle": true,
     "title": "store visited frequency"
    }
   },
   "outputs": [
    {
     "output_type": "display_data",
     "data": {
      "text/html": [
       "<style scoped>\n",
       "  .table-result-container {\n",
       "    max-height: 300px;\n",
       "    overflow: auto;\n",
       "  }\n",
       "  table, th, td {\n",
       "    border: 1px solid black;\n",
       "    border-collapse: collapse;\n",
       "  }\n",
       "  th, td {\n",
       "    padding: 5px;\n",
       "  }\n",
       "  th {\n",
       "    text-align: left;\n",
       "  }\n",
       "</style><div class='table-result-container'><table class='table-result'><thead style='background-color: white'><tr><th>source_order</th><th>Store visited</th></tr></thead><tbody><tr><td>Restaurant</td><td>27</td></tr><tr><td>zomato</td><td>39</td></tr><tr><td>Swiggy</td><td>51</td></tr></tbody></table></div>"
      ]
     },
     "metadata": {
      "application/vnd.databricks.v1+output": {
       "addedWidgets": {},
       "aggData": [],
       "aggError": "",
       "aggOverflow": false,
       "aggSchema": [],
       "aggSeriesLimitReached": false,
       "aggType": "",
       "arguments": {},
       "columnCustomDisplayInfos": {},
       "data": [
        [
         "Restaurant",
         27
        ],
        [
         "zomato",
         39
        ],
        [
         "Swiggy",
         51
        ]
       ],
       "datasetInfos": [],
       "dbfsResultPath": null,
       "isJsonSchema": true,
       "metadata": {},
       "overflow": false,
       "plotOptions": {
        "customPlotOptions": {},
        "displayType": "table",
        "pivotAggregation": null,
        "pivotColumns": null,
        "xColumns": null,
        "yColumns": null
       },
       "removedWidgets": [],
       "schema": [
        {
         "metadata": "{}",
         "name": "source_order",
         "type": "\"string\""
        },
        {
         "metadata": "{}",
         "name": "Store visited",
         "type": "\"long\""
        }
       ],
       "type": "table"
      }
     },
     "output_type": "display_data"
    },
    {
     "output_type": "display_data",
     "data": {
      "text/plain": [
       "Databricks visualization. Run in Databricks to view."
      ]
     },
     "metadata": {
      "application/vnd.databricks.v1.subcommand+json": {
       "baseErrorDetails": null,
       "bindings": {},
       "collapsed": false,
       "command": "%python\n__backend_agg_display_orig = display\n__backend_agg_dfs = []\ndef __backend_agg_display_new(df):\n    __backend_agg_df_modules = [\"pandas.core.frame\", \"databricks.koalas.frame\", \"pyspark.sql.dataframe\", \"pyspark.pandas.frame\", \"pyspark.sql.connect.dataframe\"]\n    if (type(df).__module__ in __backend_agg_df_modules and type(df).__name__ == 'DataFrame') or isinstance(df, list):\n        __backend_agg_dfs.append(df)\n\ndisplay = __backend_agg_display_new\n\ndef __backend_agg_user_code_fn():\n    import base64\n    exec(base64.standard_b64decode(\"c3RvcmVfdmlzaXRlZCA9IChzYWxlc19kZi5ncm91cEJ5KCJzb3VyY2Vfb3JkZXIiKS5hZ2coY291bnQoInByb2R1Y3RfaWQiKS5hbGlhcygiU3RvcmUgdmlzaXRlZCIpKQogICAgICAgICAgICAgICAgICAgICAgICAgICAgICAgICAgICAgICAgICAgICAgICAgICAgICAgICAgLm9yZGVyQnkoIlN0b3JlIHZpc2l0ZWQiKSkKZGlzcGxheShzdG9yZV92aXNpdGVkKQ==\").decode())\n\ntry:\n    # run user code\n    __backend_agg_user_code_fn()\n\n    #reset display function\n    display = __backend_agg_display_orig\n\n    if len(__backend_agg_dfs) > 0:\n        # create a temp view\n        if type(__backend_agg_dfs[0]).__module__ == \"databricks.koalas.frame\":\n            # koalas dataframe\n            __backend_agg_dfs[0].to_spark().createOrReplaceTempView(\"DatabricksViewfa3ee76\")\n        elif type(__backend_agg_dfs[0]).__module__ == \"pandas.core.frame\" or isinstance(__backend_agg_dfs[0], list):\n            # pandas dataframe\n            spark.createDataFrame(__backend_agg_dfs[0]).createOrReplaceTempView(\"DatabricksViewfa3ee76\")\n        else:\n            __backend_agg_dfs[0].createOrReplaceTempView(\"DatabricksViewfa3ee76\")\n        #run backend agg\n        display(spark.sql(\"\"\"WITH q AS (select * from DatabricksViewfa3ee76) SELECT `source_order`,SUM(`Store visited`) `column_82a4c1a539` FROM q GROUP BY `source_order`\"\"\"))\n    else:\n        displayHTML(\"dataframe no longer exists. If you're using dataframe.display(), use display(dataframe) instead.\")\n\n\nfinally:\n    spark.sql(\"drop view if exists DatabricksViewfa3ee76\")\n    display = __backend_agg_display_orig\n    del __backend_agg_display_new\n    del __backend_agg_display_orig\n    del __backend_agg_dfs\n    del __backend_agg_user_code_fn\n\n",
       "commandTitle": "Visualization 1",
       "commandType": "auto",
       "commandVersion": 0,
       "commentThread": [],
       "commentsVisible": false,
       "contentSha256Hex": null,
       "customPlotOptions": {
        "redashChart": [
         {
          "key": "type",
          "value": "CHART"
         },
         {
          "key": "options",
          "value": {
           "alignYAxesAtZero": true,
           "coefficient": 1,
           "columnConfigurationMap": {
            "x": {
             "column": "source_order",
             "id": "column_82a4c1a538"
            },
            "y": [
             {
              "column": "Store visited",
              "id": "column_82a4c1a539",
              "transform": "SUM"
             }
            ]
           },
           "dateTimeFormat": "DD/MM/YYYY HH:mm",
           "direction": {
            "type": "counterclockwise"
           },
           "error_y": {
            "type": "data",
            "visible": true
           },
           "globalSeriesType": "pie",
           "legend": {
            "traceorder": "normal"
           },
           "missingValuesAsZero": true,
           "numberFormat": "0,0.[00000]",
           "percentFormat": "0[.]00%",
           "series": {
            "error_y": {
             "type": "data",
             "visible": true
            },
            "stacking": null
           },
           "seriesOptions": {
            "column_82a4c1a539": {
             "name": "Store visited",
             "type": "pie",
             "yAxis": 0
            }
           },
           "showDataLabels": true,
           "sizemode": "diameter",
           "sortX": true,
           "sortY": true,
           "swappedAxes": false,
           "textFormat": "",
           "useAggregationsUi": true,
           "valuesOptions": {},
           "version": 2,
           "xAxis": {
            "labels": {
             "enabled": true
            },
            "type": "-"
           },
           "yAxis": [
            {
             "type": "-"
            },
            {
             "opposite": true,
             "type": "-"
            }
           ]
          }
         }
        ]
       },
       "datasetPreviewNameToCmdIdMap": {},
       "diffDeletes": [],
       "diffInserts": [],
       "displayType": "redashChart",
       "error": null,
       "errorDetails": null,
       "errorSummary": null,
       "errorTraceType": null,
       "finishTime": 0,
       "globalVars": {},
       "guid": "",
       "height": "auto",
       "hideCommandCode": false,
       "hideCommandResult": false,
       "iPythonMetadata": null,
       "inputWidgets": {},
       "isLockedInExamMode": false,
       "latestUser": "a user",
       "latestUserId": null,
       "listResultMetadata": null,
       "metadata": {},
       "nuid": "881120b3-332c-4d27-b57d-79d68f178e3f",
       "origId": 0,
       "parentHierarchy": [],
       "pivotAggregation": null,
       "pivotColumns": null,
       "position": 12.0,
       "resultDbfsErrorMessage": null,
       "resultDbfsStatus": "INLINED_IN_TREE",
       "results": null,
       "showCommandTitle": false,
       "startTime": 0,
       "state": "input",
       "streamStates": {},
       "subcommandOptions": {
        "queryPlan": {
         "groups": [
          {
           "column": "source_order",
           "type": "column"
          }
         ],
         "selects": [
          {
           "column": "source_order",
           "type": "column"
          },
          {
           "alias": "column_82a4c1a539",
           "args": [
            {
             "column": "Store visited",
             "type": "column"
            }
           ],
           "function": "SUM",
           "type": "function"
          }
         ]
        }
       },
       "submitTime": 0,
       "subtype": "tableResultSubCmd.visualization",
       "tableResultIndex": 0,
       "useConsistentColors": false,
       "version": "CommandV1",
       "width": "auto",
       "workflows": [],
       "xColumns": null,
       "yColumns": null
      }
     },
     "output_type": "display_data"
    }
   ],
   "source": [
    "store_visited = (sales_df.groupBy(\"source_order\").agg(count(\"product_id\").alias(\"Store visited\"))\n",
    "                                                          .orderBy(\"Store visited\"))\n",
    "display(store_visited)"
   ]
  },
  {
   "cell_type": "code",
   "execution_count": 0,
   "metadata": {
    "application/vnd.databricks.v1+cell": {
     "cellMetadata": {
      "byteLimit": 2048000,
      "rowLimit": 10000
     },
     "inputWidgets": {},
     "nuid": "ae9a96d0-ab94-4d0e-892d-f818ae2140e4",
     "showTitle": true,
     "title": "Restaurant visited frequency"
    }
   },
   "outputs": [
    {
     "output_type": "display_data",
     "data": {
      "text/html": [
       "<style scoped>\n",
       "  .table-result-container {\n",
       "    max-height: 300px;\n",
       "    overflow: auto;\n",
       "  }\n",
       "  table, th, td {\n",
       "    border: 1px solid black;\n",
       "    border-collapse: collapse;\n",
       "  }\n",
       "  th, td {\n",
       "    padding: 5px;\n",
       "  }\n",
       "  th {\n",
       "    text-align: left;\n",
       "  }\n",
       "</style><div class='table-result-container'><table class='table-result'><thead style='background-color: white'><tr><th>customer_id</th><th>count(order_date)</th></tr></thead><tbody><tr><td>E</td><td>5</td></tr><tr><td>B</td><td>6</td></tr><tr><td>D</td><td>1</td></tr><tr><td>C</td><td>3</td></tr><tr><td>A</td><td>6</td></tr></tbody></table></div>"
      ]
     },
     "metadata": {
      "application/vnd.databricks.v1+output": {
       "addedWidgets": {},
       "aggData": [],
       "aggError": "",
       "aggOverflow": false,
       "aggSchema": [],
       "aggSeriesLimitReached": false,
       "aggType": "",
       "arguments": {},
       "columnCustomDisplayInfos": {},
       "data": [
        [
         "E",
         5
        ],
        [
         "B",
         6
        ],
        [
         "D",
         1
        ],
        [
         "C",
         3
        ],
        [
         "A",
         6
        ]
       ],
       "datasetInfos": [],
       "dbfsResultPath": null,
       "isJsonSchema": true,
       "metadata": {},
       "overflow": false,
       "plotOptions": {
        "customPlotOptions": {},
        "displayType": "table",
        "pivotAggregation": null,
        "pivotColumns": null,
        "xColumns": null,
        "yColumns": null
       },
       "removedWidgets": [],
       "schema": [
        {
         "metadata": "{}",
         "name": "customer_id",
         "type": "\"string\""
        },
        {
         "metadata": "{}",
         "name": "count(order_date)",
         "type": "\"long\""
        }
       ],
       "type": "table"
      }
     },
     "output_type": "display_data"
    },
    {
     "output_type": "display_data",
     "data": {
      "text/plain": [
       "Databricks visualization. Run in Databricks to view."
      ]
     },
     "metadata": {
      "application/vnd.databricks.v1.subcommand+json": {
       "baseErrorDetails": null,
       "bindings": {},
       "collapsed": false,
       "command": "%python\n__backend_agg_display_orig = display\n__backend_agg_dfs = []\ndef __backend_agg_display_new(df):\n    __backend_agg_df_modules = [\"pandas.core.frame\", \"databricks.koalas.frame\", \"pyspark.sql.dataframe\", \"pyspark.pandas.frame\", \"pyspark.sql.connect.dataframe\"]\n    if (type(df).__module__ in __backend_agg_df_modules and type(df).__name__ == 'DataFrame') or isinstance(df, list):\n        __backend_agg_dfs.append(df)\n\ndisplay = __backend_agg_display_new\n\ndef __backend_agg_user_code_fn():\n    import base64\n    exec(base64.standard_b64decode(\"ZnJvbSBweXNwYXJrLnNxbC5mdW5jdGlvbnMgaW1wb3J0IGNvdW50RGlzdGluY3QKCnJlc3RhdXJhbnRfdmlzaXRlZCA9IChzYWxlc19kZi5maWx0ZXIoc2FsZXNfZGYuc291cmNlX29yZGVyPT0iUmVzdGF1cmFudCIpLmdyb3VwQnkoImN1c3RvbWVyX2lkIikuYWdnKGNvdW50RGlzdGluY3QoIm9yZGVyX2RhdGUiKSkpCmRpc3BsYXkocmVzdGF1cmFudF92aXNpdGVkKQ==\").decode())\n\ntry:\n    # run user code\n    __backend_agg_user_code_fn()\n\n    #reset display function\n    display = __backend_agg_display_orig\n\n    if len(__backend_agg_dfs) > 0:\n        # create a temp view\n        if type(__backend_agg_dfs[0]).__module__ == \"databricks.koalas.frame\":\n            # koalas dataframe\n            __backend_agg_dfs[0].to_spark().createOrReplaceTempView(\"DatabricksView826f9c2\")\n        elif type(__backend_agg_dfs[0]).__module__ == \"pandas.core.frame\" or isinstance(__backend_agg_dfs[0], list):\n            # pandas dataframe\n            spark.createDataFrame(__backend_agg_dfs[0]).createOrReplaceTempView(\"DatabricksView826f9c2\")\n        else:\n            __backend_agg_dfs[0].createOrReplaceTempView(\"DatabricksView826f9c2\")\n        #run backend agg\n        display(spark.sql(\"\"\"WITH q AS (select * from DatabricksView826f9c2) SELECT `customer_id`,SUM(`count(order_date)`) `column_82a4c1a542` FROM q GROUP BY `customer_id`\"\"\"))\n    else:\n        displayHTML(\"dataframe no longer exists. If you're using dataframe.display(), use display(dataframe) instead.\")\n\n\nfinally:\n    spark.sql(\"drop view if exists DatabricksView826f9c2\")\n    display = __backend_agg_display_orig\n    del __backend_agg_display_new\n    del __backend_agg_display_orig\n    del __backend_agg_dfs\n    del __backend_agg_user_code_fn\n\n",
       "commandTitle": "Visualization 1",
       "commandType": "auto",
       "commandVersion": 0,
       "commentThread": [],
       "commentsVisible": false,
       "contentSha256Hex": null,
       "customPlotOptions": {
        "redashChart": [
         {
          "key": "type",
          "value": "CHART"
         },
         {
          "key": "options",
          "value": {
           "alignYAxesAtZero": true,
           "coefficient": 1,
           "columnConfigurationMap": {
            "x": {
             "column": "customer_id",
             "id": "column_82a4c1a541"
            },
            "y": [
             {
              "column": "count(order_date)",
              "id": "column_82a4c1a542",
              "transform": "SUM"
             }
            ]
           },
           "dateTimeFormat": "DD/MM/YYYY HH:mm",
           "direction": {
            "type": "counterclockwise"
           },
           "error_y": {
            "type": "data",
            "visible": true
           },
           "globalSeriesType": "column",
           "isAggregationOn": true,
           "legend": {
            "traceorder": "normal"
           },
           "missingValuesAsZero": true,
           "numberFormat": "0,0.[00000]",
           "percentFormat": "0[.]00%",
           "series": {
            "error_y": {
             "type": "data",
             "visible": true
            },
            "stacking": null
           },
           "seriesOptions": {
            "column_82a4c1a542": {
             "name": "count(order_date)",
             "yAxis": 0
            }
           },
           "showDataLabels": true,
           "sizemode": "diameter",
           "sortX": true,
           "sortY": true,
           "swappedAxes": true,
           "textFormat": "",
           "useAggregationsUi": true,
           "valuesOptions": {},
           "version": 2,
           "xAxis": {
            "labels": {
             "enabled": true
            },
            "type": "-"
           },
           "yAxis": [
            {
             "type": "-"
            },
            {
             "opposite": true,
             "type": "-"
            }
           ]
          }
         }
        ]
       },
       "datasetPreviewNameToCmdIdMap": {},
       "diffDeletes": [],
       "diffInserts": [],
       "displayType": "redashChart",
       "error": null,
       "errorDetails": null,
       "errorSummary": null,
       "errorTraceType": null,
       "finishTime": 0,
       "globalVars": {},
       "guid": "",
       "height": "auto",
       "hideCommandCode": false,
       "hideCommandResult": false,
       "iPythonMetadata": null,
       "inputWidgets": {},
       "isLockedInExamMode": false,
       "latestUser": "a user",
       "latestUserId": null,
       "listResultMetadata": null,
       "metadata": {},
       "nuid": "9ea652f5-dc27-4e25-b624-d17ece9fc5bf",
       "origId": 0,
       "parentHierarchy": [],
       "pivotAggregation": null,
       "pivotColumns": null,
       "position": 13.0,
       "resultDbfsErrorMessage": null,
       "resultDbfsStatus": "INLINED_IN_TREE",
       "results": null,
       "showCommandTitle": false,
       "startTime": 0,
       "state": "input",
       "streamStates": {},
       "subcommandOptions": {
        "queryPlan": {
         "groups": [
          {
           "column": "customer_id",
           "type": "column"
          }
         ],
         "selects": [
          {
           "column": "customer_id",
           "type": "column"
          },
          {
           "alias": "column_82a4c1a542",
           "args": [
            {
             "column": "count(order_date)",
             "type": "column"
            }
           ],
           "function": "SUM",
           "type": "function"
          }
         ]
        }
       },
       "submitTime": 0,
       "subtype": "tableResultSubCmd.visualization",
       "tableResultIndex": 0,
       "useConsistentColors": false,
       "version": "CommandV1",
       "width": "auto",
       "workflows": [],
       "xColumns": null,
       "yColumns": null
      }
     },
     "output_type": "display_data"
    }
   ],
   "source": [
    "from pyspark.sql.functions import countDistinct\n",
    "\n",
    "restaurant_visited = (sales_df.filter(sales_df.source_order==\"Restaurant\").groupBy(\"customer_id\").agg(countDistinct(\"order_date\")))\n",
    "display(restaurant_visited)"
   ]
  },
  {
   "cell_type": "code",
   "execution_count": 0,
   "metadata": {
    "application/vnd.databricks.v1+cell": {
     "cellMetadata": {
      "byteLimit": 2048000,
      "rowLimit": 10000
     },
     "inputWidgets": {},
     "nuid": "17b59c43-8fc2-409c-9ea6-8070942845d0",
     "showTitle": true,
     "title": "Total sales by each country"
    }
   },
   "outputs": [
    {
     "output_type": "display_data",
     "data": {
      "text/html": [
       "<style scoped>\n",
       "  .table-result-container {\n",
       "    max-height: 300px;\n",
       "    overflow: auto;\n",
       "  }\n",
       "  table, th, td {\n",
       "    border: 1px solid black;\n",
       "    border-collapse: collapse;\n",
       "  }\n",
       "  th, td {\n",
       "    padding: 5px;\n",
       "  }\n",
       "  th {\n",
       "    text-align: left;\n",
       "  }\n",
       "</style><div class='table-result-container'><table class='table-result'><thead style='background-color: white'><tr><th>location</th><th>total sale in euros</th></tr></thead><tbody><tr><td>USA</td><td>126</td></tr><tr><td>India</td><td>234</td></tr><tr><td>UK</td><td>342</td></tr></tbody></table></div>"
      ]
     },
     "metadata": {
      "application/vnd.databricks.v1+output": {
       "addedWidgets": {},
       "aggData": [],
       "aggError": "",
       "aggOverflow": false,
       "aggSchema": [],
       "aggSeriesLimitReached": false,
       "aggType": "",
       "arguments": {},
       "columnCustomDisplayInfos": {},
       "data": [
        [
         "USA",
         126
        ],
        [
         "India",
         234
        ],
        [
         "UK",
         342
        ]
       ],
       "datasetInfos": [],
       "dbfsResultPath": null,
       "isJsonSchema": true,
       "metadata": {},
       "overflow": false,
       "plotOptions": {
        "customPlotOptions": {},
        "displayType": "table",
        "pivotAggregation": null,
        "pivotColumns": null,
        "xColumns": null,
        "yColumns": null
       },
       "removedWidgets": [],
       "schema": [
        {
         "metadata": "{}",
         "name": "location",
         "type": "\"string\""
        },
        {
         "metadata": "{}",
         "name": "total sale in euros",
         "type": "\"long\""
        }
       ],
       "type": "table"
      }
     },
     "output_type": "display_data"
    },
    {
     "output_type": "display_data",
     "data": {
      "text/plain": [
       "Databricks visualization. Run in Databricks to view."
      ]
     },
     "metadata": {
      "application/vnd.databricks.v1.subcommand+json": {
       "baseErrorDetails": null,
       "bindings": {},
       "collapsed": false,
       "command": "%python\n__backend_agg_display_orig = display\n__backend_agg_dfs = []\ndef __backend_agg_display_new(df):\n    __backend_agg_df_modules = [\"pandas.core.frame\", \"databricks.koalas.frame\", \"pyspark.sql.dataframe\", \"pyspark.pandas.frame\", \"pyspark.sql.connect.dataframe\"]\n    if (type(df).__module__ in __backend_agg_df_modules and type(df).__name__ == 'DataFrame') or isinstance(df, list):\n        __backend_agg_dfs.append(df)\n\ndisplay = __backend_agg_display_new\n\ndef __backend_agg_user_code_fn():\n    import base64\n    exec(base64.standard_b64decode(\"dG90YWxfc2FsZXNfZWFjaF9jb3VudHJ5ID0gKHNhbGVzX2RmLmpvaW4obWVudV9kZikuZ3JvdXBCeSgibG9jYXRpb24iKS5hZ2coY291bnQoInByaWNlIikuYWxpYXMoInRvdGFsIHNhbGUgaW4gZXVyb3MiKSkKICAgICAgICAgICAgICAgICAgICAgICAgICAgIC5vcmRlckJ5KCJ0b3RhbCBzYWxlIGluIGV1cm9zIikpCmRpc3BsYXkodG90YWxfc2FsZXNfZWFjaF9jb3VudHJ5KQ==\").decode())\n\ntry:\n    # run user code\n    __backend_agg_user_code_fn()\n\n    #reset display function\n    display = __backend_agg_display_orig\n\n    if len(__backend_agg_dfs) > 0:\n        # create a temp view\n        if type(__backend_agg_dfs[0]).__module__ == \"databricks.koalas.frame\":\n            # koalas dataframe\n            __backend_agg_dfs[0].to_spark().createOrReplaceTempView(\"DatabricksViewb0433c8\")\n        elif type(__backend_agg_dfs[0]).__module__ == \"pandas.core.frame\" or isinstance(__backend_agg_dfs[0], list):\n            # pandas dataframe\n            spark.createDataFrame(__backend_agg_dfs[0]).createOrReplaceTempView(\"DatabricksViewb0433c8\")\n        else:\n            __backend_agg_dfs[0].createOrReplaceTempView(\"DatabricksViewb0433c8\")\n        #run backend agg\n        display(spark.sql(\"\"\"WITH q AS (select * from DatabricksViewb0433c8) SELECT `location`,SUM(`total sale in euros`) `column_82a4c1a545` FROM q GROUP BY `location`\"\"\"))\n    else:\n        displayHTML(\"dataframe no longer exists. If you're using dataframe.display(), use display(dataframe) instead.\")\n\n\nfinally:\n    spark.sql(\"drop view if exists DatabricksViewb0433c8\")\n    display = __backend_agg_display_orig\n    del __backend_agg_display_new\n    del __backend_agg_display_orig\n    del __backend_agg_dfs\n    del __backend_agg_user_code_fn\n\n",
       "commandTitle": "Visualization 1",
       "commandType": "auto",
       "commandVersion": 0,
       "commentThread": [],
       "commentsVisible": false,
       "contentSha256Hex": null,
       "customPlotOptions": {
        "redashChart": [
         {
          "key": "type",
          "value": "CHART"
         },
         {
          "key": "options",
          "value": {
           "alignYAxesAtZero": true,
           "coefficient": 1,
           "columnConfigurationMap": {
            "x": {
             "column": "location",
             "id": "column_82a4c1a544"
            },
            "y": [
             {
              "column": "total sale in euros",
              "id": "column_82a4c1a545",
              "transform": "SUM"
             }
            ]
           },
           "dateTimeFormat": "DD/MM/YYYY HH:mm",
           "direction": {
            "type": "counterclockwise"
           },
           "error_y": {
            "type": "data",
            "visible": true
           },
           "globalSeriesType": "column",
           "isAggregationOn": true,
           "legend": {
            "traceorder": "normal"
           },
           "missingValuesAsZero": true,
           "numberFormat": "0,0.[00000]",
           "percentFormat": "0[.]00%",
           "series": {
            "error_y": {
             "type": "data",
             "visible": true
            },
            "stacking": null
           },
           "seriesOptions": {
            "column_82a4c1a545": {
             "color": "#FB8D3D",
             "name": "total sale in euros",
             "yAxis": 0
            }
           },
           "showDataLabels": true,
           "sizemode": "diameter",
           "sortX": true,
           "sortY": true,
           "swappedAxes": true,
           "textFormat": "",
           "useAggregationsUi": true,
           "valuesOptions": {},
           "version": 2,
           "xAxis": {
            "labels": {
             "enabled": true
            },
            "type": "-"
           },
           "yAxis": [
            {
             "type": "-"
            },
            {
             "opposite": true,
             "type": "-"
            }
           ]
          }
         }
        ]
       },
       "datasetPreviewNameToCmdIdMap": {},
       "diffDeletes": [],
       "diffInserts": [],
       "displayType": "redashChart",
       "error": null,
       "errorDetails": null,
       "errorSummary": null,
       "errorTraceType": null,
       "finishTime": 0,
       "globalVars": {},
       "guid": "",
       "height": "auto",
       "hideCommandCode": false,
       "hideCommandResult": false,
       "iPythonMetadata": null,
       "inputWidgets": {},
       "isLockedInExamMode": false,
       "latestUser": "a user",
       "latestUserId": null,
       "listResultMetadata": null,
       "metadata": {},
       "nuid": "5d03bea7-9406-4e98-9655-c769ef565e2d",
       "origId": 0,
       "parentHierarchy": [],
       "pivotAggregation": null,
       "pivotColumns": null,
       "position": 14.0,
       "resultDbfsErrorMessage": null,
       "resultDbfsStatus": "INLINED_IN_TREE",
       "results": null,
       "showCommandTitle": false,
       "startTime": 0,
       "state": "input",
       "streamStates": {},
       "subcommandOptions": {
        "queryPlan": {
         "groups": [
          {
           "column": "location",
           "type": "column"
          }
         ],
         "selects": [
          {
           "column": "location",
           "type": "column"
          },
          {
           "alias": "column_82a4c1a545",
           "args": [
            {
             "column": "total sale in euros",
             "type": "column"
            }
           ],
           "function": "SUM",
           "type": "function"
          }
         ]
        }
       },
       "submitTime": 0,
       "subtype": "tableResultSubCmd.visualization",
       "tableResultIndex": 0,
       "useConsistentColors": false,
       "version": "CommandV1",
       "width": "auto",
       "workflows": [],
       "xColumns": null,
       "yColumns": null
      }
     },
     "output_type": "display_data"
    }
   ],
   "source": [
    "total_sales_each_country = (sales_df.join(menu_df).groupBy(\"location\").agg(count(\"price\").alias(\"total sale in euros\"))\n",
    "                            .orderBy(\"total sale in euros\"))\n",
    "display(total_sales_each_country)"
   ]
  },
  {
   "cell_type": "code",
   "execution_count": 0,
   "metadata": {
    "application/vnd.databricks.v1+cell": {
     "cellMetadata": {
      "byteLimit": 2048000,
      "rowLimit": 10000
     },
     "inputWidgets": {},
     "nuid": "a7cd7368-a63c-462d-81f3-f89991829aa3",
     "showTitle": true,
     "title": "Total sales by order_source"
    }
   },
   "outputs": [
    {
     "output_type": "display_data",
     "data": {
      "text/html": [
       "<style scoped>\n",
       "  .table-result-container {\n",
       "    max-height: 300px;\n",
       "    overflow: auto;\n",
       "  }\n",
       "  table, th, td {\n",
       "    border: 1px solid black;\n",
       "    border-collapse: collapse;\n",
       "  }\n",
       "  th, td {\n",
       "    padding: 5px;\n",
       "  }\n",
       "  th {\n",
       "    text-align: left;\n",
       "  }\n",
       "</style><div class='table-result-container'><table class='table-result'><thead style='background-color: white'><tr><th>source_order</th><th>total sale in euros</th></tr></thead><tbody><tr><td>Restaurant</td><td>162</td></tr><tr><td>zomato</td><td>234</td></tr><tr><td>Swiggy</td><td>306</td></tr></tbody></table></div>"
      ]
     },
     "metadata": {
      "application/vnd.databricks.v1+output": {
       "addedWidgets": {},
       "aggData": [],
       "aggError": "",
       "aggOverflow": false,
       "aggSchema": [],
       "aggSeriesLimitReached": false,
       "aggType": "",
       "arguments": {},
       "columnCustomDisplayInfos": {},
       "data": [
        [
         "Restaurant",
         162
        ],
        [
         "zomato",
         234
        ],
        [
         "Swiggy",
         306
        ]
       ],
       "datasetInfos": [],
       "dbfsResultPath": null,
       "isJsonSchema": true,
       "metadata": {},
       "overflow": false,
       "plotOptions": {
        "customPlotOptions": {},
        "displayType": "table",
        "pivotAggregation": null,
        "pivotColumns": null,
        "xColumns": null,
        "yColumns": null
       },
       "removedWidgets": [],
       "schema": [
        {
         "metadata": "{}",
         "name": "source_order",
         "type": "\"string\""
        },
        {
         "metadata": "{}",
         "name": "total sale in euros",
         "type": "\"long\""
        }
       ],
       "type": "table"
      }
     },
     "output_type": "display_data"
    },
    {
     "output_type": "display_data",
     "data": {
      "text/plain": [
       "Databricks visualization. Run in Databricks to view."
      ]
     },
     "metadata": {
      "application/vnd.databricks.v1.subcommand+json": {
       "baseErrorDetails": null,
       "bindings": {},
       "collapsed": false,
       "command": "%python\n__backend_agg_display_orig = display\n__backend_agg_dfs = []\ndef __backend_agg_display_new(df):\n    __backend_agg_df_modules = [\"pandas.core.frame\", \"databricks.koalas.frame\", \"pyspark.sql.dataframe\", \"pyspark.pandas.frame\", \"pyspark.sql.connect.dataframe\"]\n    if (type(df).__module__ in __backend_agg_df_modules and type(df).__name__ == 'DataFrame') or isinstance(df, list):\n        __backend_agg_dfs.append(df)\n\ndisplay = __backend_agg_display_new\n\ndef __backend_agg_user_code_fn():\n    import base64\n    exec(base64.standard_b64decode(\"b3JkZXJfc291cmNlID0gKHNhbGVzX2RmLmpvaW4obWVudV9kZikuZ3JvdXBCeSgic291cmNlX29yZGVyIikuYWdnKGNvdW50KCJwcmljZSIpLmFsaWFzKCJ0b3RhbCBzYWxlIGluIGV1cm9zIikpCiAgICAgICAgICAgICAgICAgICAgICAgICAgICAub3JkZXJCeSgidG90YWwgc2FsZSBpbiBldXJvcyIpKQpkaXNwbGF5KG9yZGVyX3NvdXJjZSk=\").decode())\n\ntry:\n    # run user code\n    __backend_agg_user_code_fn()\n\n    #reset display function\n    display = __backend_agg_display_orig\n\n    if len(__backend_agg_dfs) > 0:\n        # create a temp view\n        if type(__backend_agg_dfs[0]).__module__ == \"databricks.koalas.frame\":\n            # koalas dataframe\n            __backend_agg_dfs[0].to_spark().createOrReplaceTempView(\"DatabricksViewd583663\")\n        elif type(__backend_agg_dfs[0]).__module__ == \"pandas.core.frame\" or isinstance(__backend_agg_dfs[0], list):\n            # pandas dataframe\n            spark.createDataFrame(__backend_agg_dfs[0]).createOrReplaceTempView(\"DatabricksViewd583663\")\n        else:\n            __backend_agg_dfs[0].createOrReplaceTempView(\"DatabricksViewd583663\")\n        #run backend agg\n        display(spark.sql(\"\"\"WITH q AS (select * from DatabricksViewd583663) SELECT `source_order`,SUM(`total sale in euros`) `column_82a4c1a555` FROM q GROUP BY `source_order`\"\"\"))\n    else:\n        displayHTML(\"dataframe no longer exists. If you're using dataframe.display(), use display(dataframe) instead.\")\n\n\nfinally:\n    spark.sql(\"drop view if exists DatabricksViewd583663\")\n    display = __backend_agg_display_orig\n    del __backend_agg_display_new\n    del __backend_agg_display_orig\n    del __backend_agg_dfs\n    del __backend_agg_user_code_fn\n\n",
       "commandTitle": "Visualization 1",
       "commandType": "auto",
       "commandVersion": 0,
       "commentThread": [],
       "commentsVisible": false,
       "contentSha256Hex": null,
       "customPlotOptions": {
        "redashChart": [
         {
          "key": "type",
          "value": "CHART"
         },
         {
          "key": "options",
          "value": {
           "alignYAxesAtZero": true,
           "coefficient": 1,
           "columnConfigurationMap": {
            "x": {
             "column": "source_order",
             "id": "column_82a4c1a554"
            },
            "y": [
             {
              "column": "total sale in euros",
              "id": "column_82a4c1a555",
              "transform": "SUM"
             }
            ]
           },
           "dateTimeFormat": "DD/MM/YYYY HH:mm",
           "direction": {
            "type": "counterclockwise"
           },
           "error_y": {
            "type": "data",
            "visible": true
           },
           "globalSeriesType": "column",
           "isAggregationOn": true,
           "legend": {
            "traceorder": "normal"
           },
           "missingValuesAsZero": true,
           "numberFormat": "0,0.[00000]",
           "percentFormat": "0[.]00%",
           "series": {
            "error_y": {
             "type": "data",
             "visible": true
            },
            "stacking": null
           },
           "seriesOptions": {
            "column_82a4c1a555": {
             "color": "#E92828",
             "name": "total sale in euros",
             "yAxis": 0
            }
           },
           "showDataLabels": true,
           "sizemode": "diameter",
           "sortX": true,
           "sortY": true,
           "swappedAxes": false,
           "textFormat": "",
           "useAggregationsUi": true,
           "valuesOptions": {},
           "version": 2,
           "xAxis": {
            "labels": {
             "enabled": true
            },
            "type": "-"
           },
           "yAxis": [
            {
             "type": "-"
            },
            {
             "opposite": true,
             "type": "-"
            }
           ]
          }
         }
        ]
       },
       "datasetPreviewNameToCmdIdMap": {},
       "diffDeletes": [],
       "diffInserts": [],
       "displayType": "redashChart",
       "error": null,
       "errorDetails": null,
       "errorSummary": null,
       "errorTraceType": null,
       "finishTime": 0,
       "globalVars": {},
       "guid": "",
       "height": "auto",
       "hideCommandCode": false,
       "hideCommandResult": false,
       "iPythonMetadata": null,
       "inputWidgets": {},
       "isLockedInExamMode": false,
       "latestUser": "a user",
       "latestUserId": null,
       "listResultMetadata": null,
       "metadata": {},
       "nuid": "a45b8ed0-676b-4e56-a978-cd3563d70875",
       "origId": 0,
       "parentHierarchy": [],
       "pivotAggregation": null,
       "pivotColumns": null,
       "position": 15.0,
       "resultDbfsErrorMessage": null,
       "resultDbfsStatus": "INLINED_IN_TREE",
       "results": null,
       "showCommandTitle": false,
       "startTime": 0,
       "state": "input",
       "streamStates": {},
       "subcommandOptions": {
        "queryPlan": {
         "groups": [
          {
           "column": "source_order",
           "type": "column"
          }
         ],
         "selects": [
          {
           "column": "source_order",
           "type": "column"
          },
          {
           "alias": "column_82a4c1a555",
           "args": [
            {
             "column": "total sale in euros",
             "type": "column"
            }
           ],
           "function": "SUM",
           "type": "function"
          }
         ]
        }
       },
       "submitTime": 0,
       "subtype": "tableResultSubCmd.visualization",
       "tableResultIndex": 0,
       "useConsistentColors": false,
       "version": "CommandV1",
       "width": "auto",
       "workflows": [],
       "xColumns": null,
       "yColumns": null
      }
     },
     "output_type": "display_data"
    }
   ],
   "source": [
    "order_source = (sales_df.join(menu_df).groupBy(\"source_order\").agg(count(\"price\").alias(\"total sale in euros\"))\n",
    "                            .orderBy(\"total sale in euros\"))\n",
    "display(order_source)"
   ]
  },
  {
   "cell_type": "code",
   "execution_count": 0,
   "metadata": {
    "application/vnd.databricks.v1+cell": {
     "cellMetadata": {},
     "inputWidgets": {},
     "nuid": "3815a7c2-6606-4b74-af92-4b2fc201402b",
     "showTitle": false,
     "title": ""
    }
   },
   "outputs": [],
   "source": []
  }
 ],
 "metadata": {
  "application/vnd.databricks.v1+notebook": {
   "dashboards": [],
   "language": "python",
   "notebookMetadata": {
    "pythonIndentUnit": 4
   },
   "notebookName": "PySpark_project_sales_analysis",
   "widgets": {}
  }
 },
 "nbformat": 4,
 "nbformat_minor": 0
}
